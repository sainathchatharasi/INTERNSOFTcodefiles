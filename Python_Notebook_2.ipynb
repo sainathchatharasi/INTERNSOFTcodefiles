{
  "cells": [
    {
      "cell_type": "markdown",
      "metadata": {
        "id": "view-in-github",
        "colab_type": "text"
      },
      "source": [
        "<a href=\"https://colab.research.google.com/github/sainathchatharasi/INTERNSOFTcodefiles/blob/main/Python_Notebook_2.ipynb\" target=\"_parent\"><img src=\"https://colab.research.google.com/assets/colab-badge.svg\" alt=\"Open In Colab\"/></a>"
      ]
    },
    {
      "cell_type": "markdown",
      "metadata": {
        "id": "5YIxAhU5n6Tf"
      },
      "source": [
        "# Session 2 - Strings and list objects"
      ]
    },
    {
      "cell_type": "markdown",
      "metadata": {
        "id": "8q5HvmzIn6Tn"
      },
      "source": [
        "# Strings"
      ]
    },
    {
      "cell_type": "markdown",
      "metadata": {
        "id": "v5Gt_xAPn6To"
      },
      "source": [
        "Strings are used to record the text information such as name. In Python, Strings act as “Sequence” which means Python tracks every element in the String as a sequence. This is one of the important features of the Python language.\n",
        "\n",
        "For example, Python understands the string \"hello' to be a sequence of letters in a specific order which means the indexing technique to grab particular letters (like first letter or the last letter)."
      ]
    },
    {
      "cell_type": "markdown",
      "metadata": {
        "id": "l-t4sbrjn6Tp"
      },
      "source": [
        "## Creating a String\n",
        "In Python, either single quote (‘) or double quotes (“) must be used while creating a string.\n",
        "\n",
        "    For example:"
      ]
    },
    {
      "cell_type": "code",
      "execution_count": 1,
      "metadata": {
        "colab": {
          "base_uri": "https://localhost:8080/",
          "height": 35
        },
        "id": "kC5Ovr-pn6Tq",
        "outputId": "a76bda8f-d52c-4f4c-9a21-93141935f811"
      },
      "outputs": [
        {
          "output_type": "execute_result",
          "data": {
            "text/plain": [
              "'hello'"
            ],
            "application/vnd.google.colaboratory.intrinsic+json": {
              "type": "string"
            }
          },
          "metadata": {},
          "execution_count": 1
        }
      ],
      "source": [
        "# Single word\n",
        "str=\"hello\"\n",
        "str"
      ]
    },
    {
      "cell_type": "code",
      "execution_count": 2,
      "metadata": {
        "colab": {
          "base_uri": "https://localhost:8080/",
          "height": 35
        },
        "id": "rniHumvnn6Ts",
        "outputId": "78146ba3-91e9-4fd9-a5e3-c392bcca6ccf"
      },
      "outputs": [
        {
          "output_type": "execute_result",
          "data": {
            "text/plain": [
              "'this is a string'"
            ],
            "application/vnd.google.colaboratory.intrinsic+json": {
              "type": "string"
            }
          },
          "metadata": {},
          "execution_count": 2
        }
      ],
      "source": [
        "# Entire phrase \n",
        "'this is a string'"
      ]
    },
    {
      "cell_type": "code",
      "execution_count": 3,
      "metadata": {
        "colab": {
          "base_uri": "https://localhost:8080/",
          "height": 35
        },
        "id": "UuB2aOQZn6Tt",
        "outputId": "5e601856-4bab-417d-da6a-8877beab7d4f"
      },
      "outputs": [
        {
          "output_type": "execute_result",
          "data": {
            "text/plain": [
              "'we can use double quotes'"
            ],
            "application/vnd.google.colaboratory.intrinsic+json": {
              "type": "string"
            }
          },
          "metadata": {},
          "execution_count": 3
        }
      ],
      "source": [
        "# We can also use double quote\n",
        "\"we can use double quotes\""
      ]
    },
    {
      "cell_type": "code",
      "execution_count": 4,
      "metadata": {
        "colab": {
          "base_uri": "https://localhost:8080/",
          "height": 130
        },
        "id": "Vy89ZImYn6Tv",
        "outputId": "e88b2829-58d1-457a-d135-61c1a2a12db7"
      },
      "outputs": [
        {
          "output_type": "error",
          "ename": "SyntaxError",
          "evalue": "ignored",
          "traceback": [
            "\u001b[0;36m  File \u001b[0;32m\"<ipython-input-4-f356c99b24b5>\"\u001b[0;36m, line \u001b[0;32m2\u001b[0m\n\u001b[0;31m    'I'm using single quotes,But will create an error'\u001b[0m\n\u001b[0m       ^\u001b[0m\n\u001b[0;31mSyntaxError\u001b[0m\u001b[0;31m:\u001b[0m invalid syntax\n"
          ]
        }
      ],
      "source": [
        "# Be careful with quotes!\n",
        "'I'm using single quotes,But will create an error'"
      ]
    },
    {
      "cell_type": "markdown",
      "metadata": {
        "id": "WhOnGb4yn6Tw"
      },
      "source": [
        "The above code results in an error as the text “I’m” stops the string. Here, a combination of single quotes and double quotes can be used to get the complete statement."
      ]
    },
    {
      "cell_type": "code",
      "execution_count": 5,
      "metadata": {
        "colab": {
          "base_uri": "https://localhost:8080/",
          "height": 35
        },
        "id": "Y5x4pYqln6Ty",
        "outputId": "3b02c6cd-0880-4406-ad28-5c49355f14aa"
      },
      "outputs": [
        {
          "output_type": "execute_result",
          "data": {
            "text/plain": [
              "\"Now I'm using single quotes,with out an error\""
            ],
            "application/vnd.google.colaboratory.intrinsic+json": {
              "type": "string"
            }
          },
          "metadata": {},
          "execution_count": 5
        }
      ],
      "source": [
        "\"Now I'm using single quotes,with out an error\""
      ]
    },
    {
      "cell_type": "markdown",
      "metadata": {
        "id": "96fBiItyn6Tz"
      },
      "source": [
        "Now let's learn about printing strings!"
      ]
    },
    {
      "cell_type": "markdown",
      "metadata": {
        "id": "4ABhLcmCn6T0"
      },
      "source": [
        "## Printing a String\n",
        "\n",
        "We can automatically display the output strings using Jupyter notebook with just a string in a cell. But,the correct way to display strings in your output is by using a print function."
      ]
    },
    {
      "cell_type": "code",
      "execution_count": 6,
      "metadata": {
        "colab": {
          "base_uri": "https://localhost:8080/",
          "height": 35
        },
        "id": "HELMjWuEn6T2",
        "outputId": "e35c028b-cd8e-4580-cd90-c91457b5e073"
      },
      "outputs": [
        {
          "output_type": "execute_result",
          "data": {
            "text/plain": [
              "'Hello World'"
            ],
            "application/vnd.google.colaboratory.intrinsic+json": {
              "type": "string"
            }
          },
          "metadata": {},
          "execution_count": 6
        }
      ],
      "source": [
        "# We can simply declare a string\n",
        "'Hello World'"
      ]
    },
    {
      "cell_type": "code",
      "execution_count": 7,
      "metadata": {
        "colab": {
          "base_uri": "https://localhost:8080/",
          "height": 35
        },
        "id": "wZVk3JUWn6T3",
        "outputId": "8b42fa2e-c581-4f8e-9e26-125eeee67be2"
      },
      "outputs": [
        {
          "output_type": "execute_result",
          "data": {
            "text/plain": [
              "'world'"
            ],
            "application/vnd.google.colaboratory.intrinsic+json": {
              "type": "string"
            }
          },
          "metadata": {},
          "execution_count": 7
        }
      ],
      "source": [
        "# note that we can't output multiple strings this way\n",
        "'hello'\n",
        "'world'"
      ]
    },
    {
      "cell_type": "markdown",
      "metadata": {
        "id": "v7gT9bOun6T5"
      },
      "source": [
        "In Python 2, the output of the below code snippet is displayed using \"print\" statement as shown in the below syntax but the same syntax will throw error in Python 3."
      ]
    },
    {
      "cell_type": "code",
      "execution_count": 8,
      "metadata": {
        "colab": {
          "base_uri": "https://localhost:8080/"
        },
        "id": "0jReKX9tn6T5",
        "outputId": "3511388d-52c8-4682-87ef-a172a7fc3576"
      },
      "outputs": [
        {
          "output_type": "stream",
          "name": "stdout",
          "text": [
            "hello world 1\n",
            "hello world 2\n",
            "hello world 3\n"
          ]
        }
      ],
      "source": [
        "print('hello world 1')\n",
        "print('hello world 2')\n",
        "print('hello world 3')"
      ]
    },
    {
      "cell_type": "markdown",
      "metadata": {
        "collapsed": true,
        "id": "VzA5NHd8n6T6"
      },
      "source": [
        "### <font color='red'>Python 3 Alert!</font>"
      ]
    },
    {
      "cell_type": "markdown",
      "metadata": {
        "id": "nQEG0o8Qn6T7"
      },
      "source": [
        "Note that, In Python 3, print is a function and not a statement. So you would print statements like this:\n",
        "print('Hello World')\n",
        "\n",
        "If you want to use this functionality in Python2, you can import form the __future__ module. \n",
        "\n",
        "**Caution: After importing this; you won't be able to choose the print statement method anymore. So pick the right one whichever  you prefer depending on your Python installation and continue on with it.**"
      ]
    },
    {
      "cell_type": "code",
      "execution_count": 10,
      "metadata": {
        "colab": {
          "base_uri": "https://localhost:8080/",
          "height": 148
        },
        "id": "JQ1-kBq3n6T7",
        "outputId": "5afd32cc-cb1a-4d52-f1aa-48b3cc54b616"
      },
      "outputs": [
        {
          "output_type": "error",
          "ename": "SyntaxError",
          "evalue": "ignored",
          "traceback": [
            "\u001b[0;36m  File \u001b[0;32m\"<ipython-input-10-2d32c6e08089>\"\u001b[0;36m, line \u001b[0;32m3\u001b[0m\n\u001b[0;31m    print 'hello world'\u001b[0m\n\u001b[0m                      ^\u001b[0m\n\u001b[0;31mSyntaxError\u001b[0m\u001b[0;31m:\u001b[0m Missing parentheses in call to 'print'. Did you mean print('hello world')?\n"
          ]
        }
      ],
      "source": [
        "# To use print function from Python 3 in Python 2\n",
        "from __future__ import print_function\n",
        "print 'hello world'"
      ]
    },
    {
      "cell_type": "markdown",
      "metadata": {
        "id": "QvJsonJcn6T8"
      },
      "source": [
        "## String Basics"
      ]
    },
    {
      "cell_type": "markdown",
      "metadata": {
        "id": "m9MfYsR8n6T9"
      },
      "source": [
        "In Strings, the length of the string can be found out by using a function called len()."
      ]
    },
    {
      "cell_type": "code",
      "execution_count": 11,
      "metadata": {
        "colab": {
          "base_uri": "https://localhost:8080/"
        },
        "id": "PruxZRv8n6T9",
        "outputId": "e62c1ff6-9a31-45cd-fc4f-7ee7c32277a4"
      },
      "outputs": [
        {
          "output_type": "execute_result",
          "data": {
            "text/plain": [
              "11"
            ]
          },
          "metadata": {},
          "execution_count": 11
        }
      ],
      "source": [
        "len(\"hello world\")"
      ]
    },
    {
      "cell_type": "markdown",
      "metadata": {
        "id": "Z_Nm4qUmn6T-"
      },
      "source": [
        "## String Indexing\n",
        "We know strings are a sequence, which means Python can use indexes to call all the sequence parts. Let's learn how String Indexing works.\n",
        "•\tWe use brackets [] after an object to call its index. \n",
        "•\tWe should also note that indexing starts at 0 for Python. \n",
        "Now, Let's create a new object called s and the walk through a few examples of indexing."
      ]
    },
    {
      "cell_type": "code",
      "execution_count": 13,
      "metadata": {
        "id": "M6uL6z9bn6T_"
      },
      "outputs": [],
      "source": [
        "# Assign s as a string\n",
        "s=\"sainath\""
      ]
    },
    {
      "cell_type": "code",
      "execution_count": 14,
      "metadata": {
        "colab": {
          "base_uri": "https://localhost:8080/",
          "height": 35
        },
        "id": "0ELt_hsun6T_",
        "outputId": "c7f55b0b-1732-43cf-9ae1-54319cbca9b4"
      },
      "outputs": [
        {
          "output_type": "execute_result",
          "data": {
            "text/plain": [
              "'sainath'"
            ],
            "application/vnd.google.colaboratory.intrinsic+json": {
              "type": "string"
            }
          },
          "metadata": {},
          "execution_count": 14
        }
      ],
      "source": [
        "#Check\n",
        "s"
      ]
    },
    {
      "cell_type": "code",
      "execution_count": 15,
      "metadata": {
        "colab": {
          "base_uri": "https://localhost:8080/"
        },
        "id": "vtd9yHf7n6UA",
        "outputId": "932e2aec-0747-418d-f676-9ef54e59e212"
      },
      "outputs": [
        {
          "output_type": "stream",
          "name": "stdout",
          "text": [
            "sainath\n"
          ]
        }
      ],
      "source": [
        "# Print the object\n",
        "print(s)"
      ]
    },
    {
      "cell_type": "markdown",
      "metadata": {
        "id": "MupBo4srn6UA"
      },
      "source": [
        "Let's start indexing!"
      ]
    },
    {
      "cell_type": "code",
      "execution_count": 16,
      "metadata": {
        "colab": {
          "base_uri": "https://localhost:8080/",
          "height": 35
        },
        "id": "ISVzqrBwn6UB",
        "outputId": "fd7e254c-8506-4199-accc-2b7123d89bc5"
      },
      "outputs": [
        {
          "output_type": "execute_result",
          "data": {
            "text/plain": [
              "'s'"
            ],
            "application/vnd.google.colaboratory.intrinsic+json": {
              "type": "string"
            }
          },
          "metadata": {},
          "execution_count": 16
        }
      ],
      "source": [
        "# Show first element (in this case a letter)\n",
        "s[0]"
      ]
    },
    {
      "cell_type": "code",
      "execution_count": 17,
      "metadata": {
        "colab": {
          "base_uri": "https://localhost:8080/",
          "height": 35
        },
        "id": "7nHTdVh0n6UB",
        "outputId": "1fddd445-2eb3-45f0-f48c-20d83a5b2b3c"
      },
      "outputs": [
        {
          "output_type": "execute_result",
          "data": {
            "text/plain": [
              "'a'"
            ],
            "application/vnd.google.colaboratory.intrinsic+json": {
              "type": "string"
            }
          },
          "metadata": {},
          "execution_count": 17
        }
      ],
      "source": [
        "s[1]"
      ]
    },
    {
      "cell_type": "code",
      "execution_count": 19,
      "metadata": {
        "colab": {
          "base_uri": "https://localhost:8080/",
          "height": 35
        },
        "id": "BmViyzWun6UB",
        "outputId": "4bcc4d5f-ad9c-4733-8a70-8b9bf52969ed"
      },
      "outputs": [
        {
          "output_type": "execute_result",
          "data": {
            "text/plain": [
              "'t'"
            ],
            "application/vnd.google.colaboratory.intrinsic+json": {
              "type": "string"
            }
          },
          "metadata": {},
          "execution_count": 19
        }
      ],
      "source": [
        "s[5]"
      ]
    },
    {
      "cell_type": "markdown",
      "metadata": {
        "id": "2_sdynL0n6UC"
      },
      "source": [
        "We can use a : to perform *slicing* which grabs everything up to a designated point. For example:"
      ]
    },
    {
      "cell_type": "code",
      "execution_count": 20,
      "metadata": {
        "colab": {
          "base_uri": "https://localhost:8080/",
          "height": 35
        },
        "id": "eudVUCxun6UC",
        "outputId": "15c6d6f7-b239-4bd8-9218-e29b2789419f"
      },
      "outputs": [
        {
          "output_type": "execute_result",
          "data": {
            "text/plain": [
              "'ainath'"
            ],
            "application/vnd.google.colaboratory.intrinsic+json": {
              "type": "string"
            }
          },
          "metadata": {},
          "execution_count": 20
        }
      ],
      "source": [
        "# Grab everything past the first term all the way to the length of s which is len(s)\n",
        "s[1:]"
      ]
    },
    {
      "cell_type": "code",
      "execution_count": 21,
      "metadata": {
        "colab": {
          "base_uri": "https://localhost:8080/",
          "height": 35
        },
        "id": "PgU3DcKUn6UD",
        "outputId": "c77d5fb6-1243-4cd9-a3cd-77564cdfb416"
      },
      "outputs": [
        {
          "output_type": "execute_result",
          "data": {
            "text/plain": [
              "'sainath'"
            ],
            "application/vnd.google.colaboratory.intrinsic+json": {
              "type": "string"
            }
          },
          "metadata": {},
          "execution_count": 21
        }
      ],
      "source": [
        "# Note that there is no change to the original s\n",
        "s"
      ]
    },
    {
      "cell_type": "code",
      "execution_count": 22,
      "metadata": {
        "colab": {
          "base_uri": "https://localhost:8080/",
          "height": 35
        },
        "id": "o4XEu-pDn6UD",
        "outputId": "26d351ed-e966-456e-8c71-d1bc847dd48b"
      },
      "outputs": [
        {
          "output_type": "execute_result",
          "data": {
            "text/plain": [
              "'sai'"
            ],
            "application/vnd.google.colaboratory.intrinsic+json": {
              "type": "string"
            }
          },
          "metadata": {},
          "execution_count": 22
        }
      ],
      "source": [
        "# Grab everything UP TO the 3rd index\n",
        "s[:3]"
      ]
    },
    {
      "cell_type": "markdown",
      "metadata": {
        "id": "2niz9Pron6UD"
      },
      "source": [
        "Note the above slicing. Here we're telling Python to grab everything from 0 up to 3. It doesn't include the 3rd index. You'll notice this a lot in Python, where statements and are usually in the context of \"up to, but not including\"."
      ]
    },
    {
      "cell_type": "code",
      "execution_count": 23,
      "metadata": {
        "colab": {
          "base_uri": "https://localhost:8080/",
          "height": 35
        },
        "id": "3Z1CMcKnn6UE",
        "outputId": "66114161-a175-4cbb-d56e-1b9383be1941"
      },
      "outputs": [
        {
          "output_type": "execute_result",
          "data": {
            "text/plain": [
              "'sainath'"
            ],
            "application/vnd.google.colaboratory.intrinsic+json": {
              "type": "string"
            }
          },
          "metadata": {},
          "execution_count": 23
        }
      ],
      "source": [
        "#Everything\n",
        "s[:]"
      ]
    },
    {
      "cell_type": "markdown",
      "metadata": {
        "id": "shxieKb4n6UE"
      },
      "source": [
        "We can also use negative indexing to go backwards."
      ]
    },
    {
      "cell_type": "code",
      "execution_count": 26,
      "metadata": {
        "colab": {
          "base_uri": "https://localhost:8080/",
          "height": 35
        },
        "id": "p5O591Lmn6UF",
        "outputId": "7b0b5a97-c82a-4906-df73-87e816f48bbe"
      },
      "outputs": [
        {
          "output_type": "execute_result",
          "data": {
            "text/plain": [
              "'h'"
            ],
            "application/vnd.google.colaboratory.intrinsic+json": {
              "type": "string"
            }
          },
          "metadata": {},
          "execution_count": 26
        }
      ],
      "source": [
        "# Last letter (one index behind 0 so it loops back around)\n",
        "s[-1]"
      ]
    },
    {
      "cell_type": "code",
      "execution_count": 27,
      "metadata": {
        "colab": {
          "base_uri": "https://localhost:8080/",
          "height": 35
        },
        "id": "R3olHZP0n6UF",
        "outputId": "13e96dc4-dc18-4937-9a4f-afe228a36994"
      },
      "outputs": [
        {
          "output_type": "execute_result",
          "data": {
            "text/plain": [
              "'sainat'"
            ],
            "application/vnd.google.colaboratory.intrinsic+json": {
              "type": "string"
            }
          },
          "metadata": {},
          "execution_count": 27
        }
      ],
      "source": [
        "# Grab everything but the last letter\n",
        "s[:-1]"
      ]
    },
    {
      "cell_type": "markdown",
      "metadata": {
        "id": "fYsw08KVn6UG"
      },
      "source": [
        "Index and slice notation is used to grab elements of a sequenec by a specified step size (where in 1 is the default size). For instance we can use two colons in a row and then a number specifying the frequency to grab elements. For example:"
      ]
    },
    {
      "cell_type": "code",
      "execution_count": 28,
      "metadata": {
        "colab": {
          "base_uri": "https://localhost:8080/",
          "height": 35
        },
        "id": "c4OdUKqBn6UH",
        "outputId": "cdbca3fc-a06f-4f3e-c0d7-8671091fedfc"
      },
      "outputs": [
        {
          "output_type": "execute_result",
          "data": {
            "text/plain": [
              "'sainath'"
            ],
            "application/vnd.google.colaboratory.intrinsic+json": {
              "type": "string"
            }
          },
          "metadata": {},
          "execution_count": 28
        }
      ],
      "source": [
        "# Grab everything, but go in steps size of 1\n",
        "s[::1]"
      ]
    },
    {
      "cell_type": "code",
      "execution_count": 29,
      "metadata": {
        "colab": {
          "base_uri": "https://localhost:8080/",
          "height": 35
        },
        "id": "Az3jUZnMn6UI",
        "outputId": "c5cf94fd-1e1f-45b6-f1e8-4612ecde6cf9"
      },
      "outputs": [
        {
          "output_type": "execute_result",
          "data": {
            "text/plain": [
              "'siah'"
            ],
            "application/vnd.google.colaboratory.intrinsic+json": {
              "type": "string"
            }
          },
          "metadata": {},
          "execution_count": 29
        }
      ],
      "source": [
        "# Grab everything, but go in step sizes of 2\n",
        "s[::2]"
      ]
    },
    {
      "cell_type": "code",
      "execution_count": 30,
      "metadata": {
        "colab": {
          "base_uri": "https://localhost:8080/",
          "height": 35
        },
        "id": "2rw2nqS0n6UI",
        "outputId": "10c57356-4f81-4767-ebd9-f5de38397f7c"
      },
      "outputs": [
        {
          "output_type": "execute_result",
          "data": {
            "text/plain": [
              "'htanias'"
            ],
            "application/vnd.google.colaboratory.intrinsic+json": {
              "type": "string"
            }
          },
          "metadata": {},
          "execution_count": 30
        }
      ],
      "source": [
        "# We can use this to print a string backwards\n",
        "s[::-1]"
      ]
    },
    {
      "cell_type": "markdown",
      "metadata": {
        "collapsed": true,
        "id": "7OY79b54n6UJ"
      },
      "source": [
        "## String Properties\n",
        "\n",
        "Immutability is one the finest string property whichh is created once and the elements within it cannot be changed or replaced. For example:"
      ]
    },
    {
      "cell_type": "code",
      "execution_count": 31,
      "metadata": {
        "colab": {
          "base_uri": "https://localhost:8080/",
          "height": 35
        },
        "id": "yLGtd1Z7n6UJ",
        "outputId": "34f58098-8317-4d75-809e-b77f3dd5bb77"
      },
      "outputs": [
        {
          "output_type": "execute_result",
          "data": {
            "text/plain": [
              "'sainath'"
            ],
            "application/vnd.google.colaboratory.intrinsic+json": {
              "type": "string"
            }
          },
          "metadata": {},
          "execution_count": 31
        }
      ],
      "source": [
        "s"
      ]
    },
    {
      "cell_type": "code",
      "execution_count": 32,
      "metadata": {
        "colab": {
          "base_uri": "https://localhost:8080/",
          "height": 182
        },
        "id": "-WkIWATgn6UJ",
        "outputId": "a599bef3-bbc6-40f2-9ce6-40cecac1d3bf"
      },
      "outputs": [
        {
          "output_type": "error",
          "ename": "TypeError",
          "evalue": "ignored",
          "traceback": [
            "\u001b[0;31m---------------------------------------------------------------------------\u001b[0m",
            "\u001b[0;31mTypeError\u001b[0m                                 Traceback (most recent call last)",
            "\u001b[0;32m<ipython-input-32-38f79b98cde6>\u001b[0m in \u001b[0;36m<module>\u001b[0;34m()\u001b[0m\n\u001b[1;32m      1\u001b[0m \u001b[0;31m# Let's try to change the first letter to 'x'\u001b[0m\u001b[0;34m\u001b[0m\u001b[0;34m\u001b[0m\u001b[0;34m\u001b[0m\u001b[0m\n\u001b[0;32m----> 2\u001b[0;31m \u001b[0ms\u001b[0m\u001b[0;34m[\u001b[0m\u001b[0;36m0\u001b[0m\u001b[0;34m]\u001b[0m\u001b[0;34m=\u001b[0m\u001b[0;34m\"x\"\u001b[0m\u001b[0;34m\u001b[0m\u001b[0;34m\u001b[0m\u001b[0m\n\u001b[0m",
            "\u001b[0;31mTypeError\u001b[0m: 'str' object does not support item assignment"
          ]
        }
      ],
      "source": [
        "# Let's try to change the first letter to 'x'\n",
        "s[0]=\"x\""
      ]
    },
    {
      "cell_type": "markdown",
      "metadata": {
        "id": "ufFm9O7bn6UJ"
      },
      "source": [
        "Notice how the error tells us directly what we can't do, change the item assignment!\n",
        "\n",
        "Something we can do is concatenate strings!"
      ]
    },
    {
      "cell_type": "code",
      "execution_count": 33,
      "metadata": {
        "colab": {
          "base_uri": "https://localhost:8080/",
          "height": 35
        },
        "id": "WlpCWytDn6UK",
        "outputId": "13cbba3f-238b-4cdc-ec18-8c9851a3a389"
      },
      "outputs": [
        {
          "output_type": "execute_result",
          "data": {
            "text/plain": [
              "'sainath'"
            ],
            "application/vnd.google.colaboratory.intrinsic+json": {
              "type": "string"
            }
          },
          "metadata": {},
          "execution_count": 33
        }
      ],
      "source": [
        "s"
      ]
    },
    {
      "cell_type": "code",
      "execution_count": 47,
      "metadata": {
        "colab": {
          "base_uri": "https://localhost:8080/",
          "height": 35
        },
        "id": "2vEGPatKn6UK",
        "outputId": "dee99763-aa31-4783-bab5-80f9e0cefe08"
      },
      "outputs": [
        {
          "output_type": "execute_result",
          "data": {
            "text/plain": [
              "'sainath concatinate me!'"
            ],
            "application/vnd.google.colaboratory.intrinsic+json": {
              "type": "string"
            }
          },
          "metadata": {},
          "execution_count": 47
        }
      ],
      "source": [
        "# Concatenate strings!\n",
        "s+' concatinate me!'"
      ]
    },
    {
      "cell_type": "code",
      "execution_count": 48,
      "metadata": {
        "id": "y1ivB8_an6UK"
      },
      "outputs": [],
      "source": [
        "# We can reassign s completely though!\n",
        "s=s+' concatinate me!'"
      ]
    },
    {
      "cell_type": "code",
      "execution_count": 49,
      "metadata": {
        "colab": {
          "base_uri": "https://localhost:8080/"
        },
        "id": "znsUhX88n6UK",
        "outputId": "7d7bfebb-e7d2-429e-92c4-f6142aee7bbc"
      },
      "outputs": [
        {
          "output_type": "stream",
          "name": "stdout",
          "text": [
            "sainath concatinate me!\n"
          ]
        }
      ],
      "source": [
        "print(s)"
      ]
    },
    {
      "cell_type": "code",
      "execution_count": 50,
      "metadata": {
        "colab": {
          "base_uri": "https://localhost:8080/",
          "height": 35
        },
        "id": "uYFhOVN6n6UL",
        "outputId": "4122734e-59af-4702-964f-68cff6f08626"
      },
      "outputs": [
        {
          "output_type": "execute_result",
          "data": {
            "text/plain": [
              "'sainath concatinate me!'"
            ],
            "application/vnd.google.colaboratory.intrinsic+json": {
              "type": "string"
            }
          },
          "metadata": {},
          "execution_count": 50
        }
      ],
      "source": [
        "s"
      ]
    },
    {
      "cell_type": "markdown",
      "metadata": {
        "id": "po7QJsj7n6UL"
      },
      "source": [
        "We can use the multiplication symbol to create repetition!"
      ]
    },
    {
      "cell_type": "code",
      "execution_count": 43,
      "metadata": {
        "id": "8kdcpbPpn6UL"
      },
      "outputs": [],
      "source": [
        "letter='z'"
      ]
    },
    {
      "cell_type": "code",
      "execution_count": 44,
      "metadata": {
        "colab": {
          "base_uri": "https://localhost:8080/",
          "height": 35
        },
        "id": "_YtdmRavn6UL",
        "outputId": "ce0525af-14f0-4c83-caec-cc31dd9e1a17"
      },
      "outputs": [
        {
          "output_type": "execute_result",
          "data": {
            "text/plain": [
              "'zzzzzzzzzz'"
            ],
            "application/vnd.google.colaboratory.intrinsic+json": {
              "type": "string"
            }
          },
          "metadata": {},
          "execution_count": 44
        }
      ],
      "source": [
        "letter*10"
      ]
    },
    {
      "cell_type": "markdown",
      "metadata": {
        "id": "FAklAvWsn6UQ"
      },
      "source": [
        "## Basic Built-in String methods\n",
        "\n",
        "In Python, Objects have built-in methods which means these methods are functions present inside the object (we will learn about these in much more depth later) that can perform actions or commands on the object itself.\n",
        "\n",
        "Methods can be called with a period followed by the method name. Methods are in the form:\n",
        "\n",
        "object.method(parameters)\n",
        "\n",
        "Where parameters are extra arguments which are passed into the method. Right now, it is not necessary to make 100% sense but going forward we will create our own objects and functions. \n",
        "\n",
        "Here are some examples of built-in methods in strings:"
      ]
    },
    {
      "cell_type": "code",
      "execution_count": 55,
      "metadata": {
        "id": "oe-yFpegn6UR"
      },
      "outputs": [],
      "source": [
        "s='sainath naidu chatharasi'"
      ]
    },
    {
      "cell_type": "code",
      "execution_count": 56,
      "metadata": {
        "colab": {
          "base_uri": "https://localhost:8080/",
          "height": 35
        },
        "id": "D3X8fwB9n6UR",
        "outputId": "e3bfd4d2-21f1-403f-d48c-f9d9076d8637"
      },
      "outputs": [
        {
          "output_type": "execute_result",
          "data": {
            "text/plain": [
              "'SAINATH NAIDU CHATHARASI'"
            ],
            "application/vnd.google.colaboratory.intrinsic+json": {
              "type": "string"
            }
          },
          "metadata": {},
          "execution_count": 56
        }
      ],
      "source": [
        "# Upper Case a string\n",
        "s.upper()"
      ]
    },
    {
      "cell_type": "code",
      "execution_count": 57,
      "metadata": {
        "colab": {
          "base_uri": "https://localhost:8080/",
          "height": 35
        },
        "id": "XM1Jew6in6UR",
        "outputId": "8146486e-b769-4415-e1ba-8bae2bf1ddfc"
      },
      "outputs": [
        {
          "output_type": "execute_result",
          "data": {
            "text/plain": [
              "'sainath naidu chatharasi'"
            ],
            "application/vnd.google.colaboratory.intrinsic+json": {
              "type": "string"
            }
          },
          "metadata": {},
          "execution_count": 57
        }
      ],
      "source": [
        "# Lower case\n",
        "s.lower()"
      ]
    },
    {
      "cell_type": "code",
      "execution_count": 58,
      "metadata": {
        "colab": {
          "base_uri": "https://localhost:8080/"
        },
        "id": "jaLCE4TXn6UR",
        "outputId": "798443f9-68b5-4370-e0de-178f62263369"
      },
      "outputs": [
        {
          "output_type": "execute_result",
          "data": {
            "text/plain": [
              "['sainath', 'naidu', 'chatharasi']"
            ]
          },
          "metadata": {},
          "execution_count": 58
        }
      ],
      "source": [
        "# Split a string by blank space (this is the default)\n",
        "s.split()"
      ]
    },
    {
      "cell_type": "code",
      "execution_count": 59,
      "metadata": {
        "colab": {
          "base_uri": "https://localhost:8080/"
        },
        "id": "4YxZL5dWn6US",
        "outputId": "7dde9561-eeb0-496c-cfa9-9bb18fe2605c"
      },
      "outputs": [
        {
          "output_type": "execute_result",
          "data": {
            "text/plain": [
              "['s', 'in', 'th n', 'idu ch', 'th', 'r', 'si']"
            ]
          },
          "metadata": {},
          "execution_count": 59
        }
      ],
      "source": [
        "# Split by a specific element (doesn't include the element that was split on)\n",
        "s.split('a')"
      ]
    },
    {
      "cell_type": "markdown",
      "metadata": {
        "id": "3bzmcgJSn6US"
      },
      "source": [
        "There are many more methods than the ones covered here. To know more about the String functions, Visit the advanced String section."
      ]
    },
    {
      "cell_type": "markdown",
      "metadata": {
        "id": "5zFtZenon6US"
      },
      "source": [
        "## Print Formatting\n",
        "\n",
        "Print Formatting \".format()\" method is used to add formatted objects to the printed string statements. \n",
        "\n",
        "Let's see an example to clearly understand the concept. "
      ]
    },
    {
      "cell_type": "code",
      "execution_count": 60,
      "metadata": {
        "scrolled": true,
        "colab": {
          "base_uri": "https://localhost:8080/",
          "height": 35
        },
        "id": "zF-E2F9bn6US",
        "outputId": "fd51b470-7b66-4c98-b306-0b2aedafaa79"
      },
      "outputs": [
        {
          "output_type": "execute_result",
          "data": {
            "text/plain": [
              "\"sainath naidu chatharasi:{'the string'}\""
            ],
            "application/vnd.google.colaboratory.intrinsic+json": {
              "type": "string"
            }
          },
          "metadata": {},
          "execution_count": 60
        }
      ],
      "source": [
        "\"sainath naidu chatharasi:{}\".format({'the string'})"
      ]
    },
    {
      "cell_type": "markdown",
      "metadata": {
        "id": "6H63Vp8jn6US"
      },
      "source": [
        "## Location and Counting"
      ]
    },
    {
      "cell_type": "code",
      "execution_count": 63,
      "metadata": {
        "colab": {
          "base_uri": "https://localhost:8080/"
        },
        "id": "qMA-clWun6UT",
        "outputId": "c2f14c77-dec6-4f3d-9b25-b6b1dd8eaa88"
      },
      "outputs": [
        {
          "output_type": "stream",
          "name": "stdout",
          "text": [
            "sainath naidu chatharasi\n"
          ]
        },
        {
          "output_type": "execute_result",
          "data": {
            "text/plain": [
              "6"
            ]
          },
          "metadata": {},
          "execution_count": 63
        }
      ],
      "source": [
        "print(s)\n",
        "s.count('a')"
      ]
    },
    {
      "cell_type": "code",
      "execution_count": 64,
      "metadata": {
        "colab": {
          "base_uri": "https://localhost:8080/"
        },
        "id": "xTRkQDg3n6UT",
        "outputId": "c2f0d25a-c371-4d02-bf8d-fc452b4d464a"
      },
      "outputs": [
        {
          "output_type": "execute_result",
          "data": {
            "text/plain": [
              "11"
            ]
          },
          "metadata": {},
          "execution_count": 64
        }
      ],
      "source": [
        "s.find('d')"
      ]
    },
    {
      "cell_type": "markdown",
      "metadata": {
        "id": "0F7Nl-nln6UT"
      },
      "source": [
        "##Formatting\n",
        "The center() method allows you to place your string 'centered' between a provided string with a certain length. "
      ]
    },
    {
      "cell_type": "code",
      "execution_count": 66,
      "metadata": {
        "colab": {
          "base_uri": "https://localhost:8080/",
          "height": 35
        },
        "id": "eHWSjnOyn6UT",
        "outputId": "e0db8408-dfaa-4f12-b3b2-d98d99380a70"
      },
      "outputs": [
        {
          "output_type": "execute_result",
          "data": {
            "text/plain": [
              "'zzzzzzzzsainath naidu chatharasizzzzzzzz'"
            ],
            "application/vnd.google.colaboratory.intrinsic+json": {
              "type": "string"
            }
          },
          "metadata": {},
          "execution_count": 66
        }
      ],
      "source": [
        "s.center(40,'z')"
      ]
    },
    {
      "cell_type": "markdown",
      "metadata": {
        "id": "1Rr7_e5Yn6UT"
      },
      "source": [
        "expandtabs() will expand tab notations \\t into spaces. Let's see an example to understand the concept."
      ]
    },
    {
      "cell_type": "code",
      "execution_count": 68,
      "metadata": {
        "colab": {
          "base_uri": "https://localhost:8080/",
          "height": 35
        },
        "id": "Eq0oIUQan6UT",
        "outputId": "000213fa-ff43-4eb4-989d-082510396586"
      },
      "outputs": [
        {
          "output_type": "execute_result",
          "data": {
            "text/plain": [
              "'hello   hi'"
            ],
            "application/vnd.google.colaboratory.intrinsic+json": {
              "type": "string"
            }
          },
          "metadata": {},
          "execution_count": 68
        }
      ],
      "source": [
        "'hello\\thi'.expandtabs()"
      ]
    },
    {
      "cell_type": "markdown",
      "metadata": {
        "id": "MlDRWGdin6UU"
      },
      "source": [
        "## is check methods\n",
        "These various methods below check it the string is some case. Lets explore them:"
      ]
    },
    {
      "cell_type": "code",
      "execution_count": 69,
      "metadata": {
        "id": "3oGhuhbhn6UU"
      },
      "outputs": [],
      "source": [
        "s=\"hello\""
      ]
    },
    {
      "cell_type": "markdown",
      "metadata": {
        "id": "vaRmip93n6UU"
      },
      "source": [
        "isalnum() will return \"True\" if all characters in S are alphanumeric."
      ]
    },
    {
      "cell_type": "code",
      "execution_count": 70,
      "metadata": {
        "colab": {
          "base_uri": "https://localhost:8080/"
        },
        "id": "vjr6soOFn6UU",
        "outputId": "d518909a-2243-4f38-d36e-5f7d157921d6"
      },
      "outputs": [
        {
          "output_type": "execute_result",
          "data": {
            "text/plain": [
              "True"
            ]
          },
          "metadata": {},
          "execution_count": 70
        }
      ],
      "source": [
        "s.isalnum()"
      ]
    },
    {
      "cell_type": "markdown",
      "metadata": {
        "id": "qWVLIe_pn6UU"
      },
      "source": [
        "isalpha() wil return \"True\" if all characters in S are alphabetic."
      ]
    },
    {
      "cell_type": "code",
      "execution_count": 71,
      "metadata": {
        "colab": {
          "base_uri": "https://localhost:8080/"
        },
        "id": "r_wtKcM9n6UV",
        "outputId": "8f483d4b-02d1-43a1-dd25-3677d1089127"
      },
      "outputs": [
        {
          "output_type": "execute_result",
          "data": {
            "text/plain": [
              "True"
            ]
          },
          "metadata": {},
          "execution_count": 71
        }
      ],
      "source": [
        "s.isalpha()"
      ]
    },
    {
      "cell_type": "markdown",
      "metadata": {
        "id": "ItIrFcpnn6UV"
      },
      "source": [
        "islower() will return \"True\" if all cased characters in S are lowercase and there is\n",
        "at least one cased character in S, False otherwise."
      ]
    },
    {
      "cell_type": "code",
      "execution_count": 72,
      "metadata": {
        "colab": {
          "base_uri": "https://localhost:8080/"
        },
        "id": "pjIriHA-n6UV",
        "outputId": "5fba661d-9e28-433e-c7ae-3b2ada855c14"
      },
      "outputs": [
        {
          "output_type": "execute_result",
          "data": {
            "text/plain": [
              "True"
            ]
          },
          "metadata": {},
          "execution_count": 72
        }
      ],
      "source": [
        "s.islower()"
      ]
    },
    {
      "cell_type": "markdown",
      "metadata": {
        "id": "JuqxH7Dln6UW"
      },
      "source": [
        "isspace() will return \"True\" if all characters in S are whitespace."
      ]
    },
    {
      "cell_type": "code",
      "execution_count": 73,
      "metadata": {
        "colab": {
          "base_uri": "https://localhost:8080/"
        },
        "id": "zGta0vB0n6UW",
        "outputId": "39850dcc-5e87-43b0-e3c4-53238d370cf9"
      },
      "outputs": [
        {
          "output_type": "execute_result",
          "data": {
            "text/plain": [
              "False"
            ]
          },
          "metadata": {},
          "execution_count": 73
        }
      ],
      "source": [
        "s.isspace()"
      ]
    },
    {
      "cell_type": "markdown",
      "metadata": {
        "id": "6McEOh4ln6UW"
      },
      "source": [
        "istitle() will return \"True\" if S is a title cased string and there is at least one character in S, i.e. uppercase characters may only follow uncased characters and lowercase characters only cased ones. Return False otherwise."
      ]
    },
    {
      "cell_type": "code",
      "execution_count": 74,
      "metadata": {
        "colab": {
          "base_uri": "https://localhost:8080/"
        },
        "id": "6xBA2k9In6UW",
        "outputId": "4d61b7f6-92aa-48ae-85be-4165f5998e7b"
      },
      "outputs": [
        {
          "output_type": "execute_result",
          "data": {
            "text/plain": [
              "False"
            ]
          },
          "metadata": {},
          "execution_count": 74
        }
      ],
      "source": [
        "s.istitle()"
      ]
    },
    {
      "cell_type": "markdown",
      "metadata": {
        "id": "3K04BZY5n6UW"
      },
      "source": [
        "isupper() will return \"True\" if all cased characters in S are uppercase and there is\n",
        "at least one cased character in S, False otherwise."
      ]
    },
    {
      "cell_type": "code",
      "execution_count": 75,
      "metadata": {
        "colab": {
          "base_uri": "https://localhost:8080/"
        },
        "id": "JDazzcMfn6UX",
        "outputId": "59af5d4a-d551-41cf-f64a-c17486b6b818"
      },
      "outputs": [
        {
          "output_type": "execute_result",
          "data": {
            "text/plain": [
              "False"
            ]
          },
          "metadata": {},
          "execution_count": 75
        }
      ],
      "source": [
        "s.isupper()"
      ]
    },
    {
      "cell_type": "markdown",
      "metadata": {
        "id": "WnSuoo9cn6UX"
      },
      "source": [
        "Another method is endswith() which is essentially same as a boolean check on s[-1]"
      ]
    },
    {
      "cell_type": "code",
      "execution_count": 77,
      "metadata": {
        "colab": {
          "base_uri": "https://localhost:8080/"
        },
        "id": "VmReiT0Xn6UX",
        "outputId": "e4daf9ca-ba05-464f-fd76-13eb6ebcff2b"
      },
      "outputs": [
        {
          "output_type": "execute_result",
          "data": {
            "text/plain": [
              "True"
            ]
          },
          "metadata": {},
          "execution_count": 77
        }
      ],
      "source": [
        "s.endswith('o')"
      ]
    },
    {
      "cell_type": "markdown",
      "metadata": {
        "id": "ISGx4W5pn6UX"
      },
      "source": [
        "## Built-in Reg. Expressions\n",
        "\n",
        "In Strings, there are some built-in methods which is similar to regular expression operations.\n",
        "•\tSplit() function is used to split the string at a certain element and return a list of the result.\n",
        "•\tPartition is used to return a tuple that includes the separator (the first occurrence), the first half and the end half."
      ]
    },
    {
      "cell_type": "code",
      "execution_count": 78,
      "metadata": {
        "colab": {
          "base_uri": "https://localhost:8080/"
        },
        "id": "WCd8RNJXn6UY",
        "outputId": "ab133380-1fbc-4e2b-d9b4-9126fe399d4b"
      },
      "outputs": [
        {
          "output_type": "execute_result",
          "data": {
            "text/plain": [
              "['h', 'llo']"
            ]
          },
          "metadata": {},
          "execution_count": 78
        }
      ],
      "source": [
        "s.split('e')"
      ]
    },
    {
      "cell_type": "code",
      "execution_count": 80,
      "metadata": {
        "colab": {
          "base_uri": "https://localhost:8080/"
        },
        "id": "L2bXwKc5n6UY",
        "outputId": "639ad56a-42a1-4c8a-9f8c-f69bc9693df3"
      },
      "outputs": [
        {
          "output_type": "execute_result",
          "data": {
            "text/plain": [
              "('h', 'e', 'llo')"
            ]
          },
          "metadata": {},
          "execution_count": 80
        }
      ],
      "source": [
        "s.partition('e')"
      ]
    },
    {
      "cell_type": "code",
      "execution_count": 81,
      "metadata": {
        "colab": {
          "base_uri": "https://localhost:8080/",
          "height": 35
        },
        "id": "qU0VgJJ4n6UY",
        "outputId": "48494af7-d210-4370-afdb-d1403a1fb7de"
      },
      "outputs": [
        {
          "output_type": "execute_result",
          "data": {
            "text/plain": [
              "'hello'"
            ],
            "application/vnd.google.colaboratory.intrinsic+json": {
              "type": "string"
            }
          },
          "metadata": {},
          "execution_count": 81
        }
      ],
      "source": [
        "s"
      ]
    },
    {
      "cell_type": "markdown",
      "metadata": {
        "id": "2S59Aaonn6UY"
      },
      "source": [
        "# Lists\n",
        "\n",
        "Earlier, while discussing introduction to strings we have introduced the concept of a *sequence* in Python. In Python, Lists can be considered as the most general version of a \"sequence\". Unlike strings, they are mutable which means the elements inside a list can be changed!\n",
        "\n",
        "Lists are constructed with brackets [] and commas separating every element in the list.\n",
        "\n",
        "Let's go ahead and see how we can construct lists!"
      ]
    },
    {
      "cell_type": "code",
      "execution_count": null,
      "metadata": {
        "id": "4x3-2hBEn6UZ"
      },
      "outputs": [],
      "source": [
        "# Assign a list to an variable named my_list\n",
        "my_list=[1,2,3]"
      ]
    },
    {
      "cell_type": "markdown",
      "metadata": {
        "id": "FCjLNONBn6UZ"
      },
      "source": [
        "We just created a list of integers, but lists can actually hold different object types. For example:"
      ]
    },
    {
      "cell_type": "code",
      "execution_count": 82,
      "metadata": {
        "colab": {
          "base_uri": "https://localhost:8080/"
        },
        "id": "HkReyVcmn6UZ",
        "outputId": "4a387ebe-1817-463a-e297-4877e38c0726"
      },
      "outputs": [
        {
          "output_type": "execute_result",
          "data": {
            "text/plain": [
              "['A string', 23, 200, 231, 'o']"
            ]
          },
          "metadata": {},
          "execution_count": 82
        }
      ],
      "source": [
        "my_list=['A string',23,200,231,'o']\n",
        "my_list"
      ]
    },
    {
      "cell_type": "markdown",
      "metadata": {
        "id": "Xm92mRddn6Ua"
      },
      "source": [
        "Just like strings, the len() function will tell you how many items are in the sequence of the list."
      ]
    },
    {
      "cell_type": "code",
      "execution_count": 83,
      "metadata": {
        "colab": {
          "base_uri": "https://localhost:8080/"
        },
        "id": "TfKcBVEwn6Ua",
        "outputId": "dd7b36b6-9e24-4a2e-d304-6c80bb6df9e9"
      },
      "outputs": [
        {
          "output_type": "execute_result",
          "data": {
            "text/plain": [
              "5"
            ]
          },
          "metadata": {},
          "execution_count": 83
        }
      ],
      "source": [
        "len(my_list)"
      ]
    },
    {
      "cell_type": "markdown",
      "metadata": {
        "id": "Y9rnb_9Gn6Ua"
      },
      "source": [
        "### Indexing and Slicing\n",
        "Indexing and slicing of lists works just like in Strings. Let's make a new list to remind ourselves of how this works:"
      ]
    },
    {
      "cell_type": "code",
      "execution_count": 84,
      "metadata": {
        "id": "xanAjA9Zn6Ub"
      },
      "outputs": [],
      "source": [
        "l=['one','two','three','four']"
      ]
    },
    {
      "cell_type": "code",
      "execution_count": 85,
      "metadata": {
        "colab": {
          "base_uri": "https://localhost:8080/",
          "height": 35
        },
        "id": "4qi2LWjXn6Ub",
        "outputId": "80916a27-4f2c-4306-fcbf-8c22ca5b0200"
      },
      "outputs": [
        {
          "output_type": "execute_result",
          "data": {
            "text/plain": [
              "'one'"
            ],
            "application/vnd.google.colaboratory.intrinsic+json": {
              "type": "string"
            }
          },
          "metadata": {},
          "execution_count": 85
        }
      ],
      "source": [
        "# Grab element at index 0\n",
        "l[0]"
      ]
    },
    {
      "cell_type": "code",
      "execution_count": 86,
      "metadata": {
        "colab": {
          "base_uri": "https://localhost:8080/"
        },
        "id": "ZfwE6Krwn6Ub",
        "outputId": "ccad5ec2-09bc-45f0-fe6e-d53246fa091f"
      },
      "outputs": [
        {
          "output_type": "execute_result",
          "data": {
            "text/plain": [
              "['two', 'three', 'four']"
            ]
          },
          "metadata": {},
          "execution_count": 86
        }
      ],
      "source": [
        "# Grab index 1 and everything past it\n",
        "l[1:]"
      ]
    },
    {
      "cell_type": "code",
      "execution_count": 87,
      "metadata": {
        "colab": {
          "base_uri": "https://localhost:8080/"
        },
        "id": "zcEOR1q4n6Uc",
        "outputId": "d54484fb-37a2-4d2b-951f-b4e1795a30e0"
      },
      "outputs": [
        {
          "output_type": "execute_result",
          "data": {
            "text/plain": [
              "['one', 'two', 'three']"
            ]
          },
          "metadata": {},
          "execution_count": 87
        }
      ],
      "source": [
        "# Grab everything UP TO index 3\n",
        "l[:3]"
      ]
    },
    {
      "cell_type": "markdown",
      "metadata": {
        "id": "k-j5DDbsn6Uc"
      },
      "source": [
        "We can also use \"+\" to concatenate lists, just like we did for Strings."
      ]
    },
    {
      "cell_type": "code",
      "execution_count": 89,
      "metadata": {
        "colab": {
          "base_uri": "https://localhost:8080/"
        },
        "id": "Syubv0jFn6Uc",
        "outputId": "c1d9e575-3f7d-4194-fccb-c9c09378abb3"
      },
      "outputs": [
        {
          "output_type": "execute_result",
          "data": {
            "text/plain": [
              "['one', 'two', 'three', 'four', 'five']"
            ]
          },
          "metadata": {},
          "execution_count": 89
        }
      ],
      "source": [
        "l+['five']"
      ]
    },
    {
      "cell_type": "markdown",
      "metadata": {
        "id": "b805B1c7n6Uc"
      },
      "source": [
        "Note: This doesn't actually change the original list!"
      ]
    },
    {
      "cell_type": "code",
      "execution_count": 90,
      "metadata": {
        "colab": {
          "base_uri": "https://localhost:8080/"
        },
        "id": "o_M_ALu-n6Ud",
        "outputId": "daab04f6-0cf5-4a94-b59a-91560a463f93"
      },
      "outputs": [
        {
          "output_type": "execute_result",
          "data": {
            "text/plain": [
              "['one', 'two', 'three', 'four']"
            ]
          },
          "metadata": {},
          "execution_count": 90
        }
      ],
      "source": [
        "l"
      ]
    },
    {
      "cell_type": "markdown",
      "metadata": {
        "id": "6B6PRqAjn6Ud"
      },
      "source": [
        "In this case, you have to reassign the list to make the permanent change."
      ]
    },
    {
      "cell_type": "code",
      "execution_count": 91,
      "metadata": {
        "id": "kYOxi5Can6Ud"
      },
      "outputs": [],
      "source": [
        "# Reassign\n",
        "l=l+['five']"
      ]
    },
    {
      "cell_type": "code",
      "execution_count": 92,
      "metadata": {
        "colab": {
          "base_uri": "https://localhost:8080/"
        },
        "id": "BrBLEMUKn6Ud",
        "outputId": "e31854fc-c457-4066-9f32-f57b3c5ca6bb"
      },
      "outputs": [
        {
          "output_type": "execute_result",
          "data": {
            "text/plain": [
              "['one', 'two', 'three', 'four', 'five']"
            ]
          },
          "metadata": {},
          "execution_count": 92
        }
      ],
      "source": [
        "l"
      ]
    },
    {
      "cell_type": "markdown",
      "metadata": {
        "id": "vNUHlV1Un6Ud"
      },
      "source": [
        "We can also use the * for a duplication method similar to strings:"
      ]
    },
    {
      "cell_type": "code",
      "execution_count": 93,
      "metadata": {
        "colab": {
          "base_uri": "https://localhost:8080/"
        },
        "id": "4aVRT9xmn6Ue",
        "outputId": "f44a10e5-6d75-4162-c6ba-4c4d72c43fce"
      },
      "outputs": [
        {
          "output_type": "execute_result",
          "data": {
            "text/plain": [
              "['one', 'two', 'three', 'four', 'five', 'one', 'two', 'three', 'four', 'five']"
            ]
          },
          "metadata": {},
          "execution_count": 93
        }
      ],
      "source": [
        "# Make the list double\n",
        "l*2"
      ]
    },
    {
      "cell_type": "code",
      "execution_count": 94,
      "metadata": {
        "colab": {
          "base_uri": "https://localhost:8080/"
        },
        "id": "vFgwLsicn6Ue",
        "outputId": "c2e2d0ef-464c-47e8-d095-50ed5f3bfa7b"
      },
      "outputs": [
        {
          "output_type": "execute_result",
          "data": {
            "text/plain": [
              "['one', 'two', 'three', 'four', 'five']"
            ]
          },
          "metadata": {},
          "execution_count": 94
        }
      ],
      "source": [
        "# Again doubling not permanent\n",
        "l"
      ]
    },
    {
      "cell_type": "markdown",
      "metadata": {
        "id": "QVhn72r1n6Ue"
      },
      "source": [
        "## Basic List Methods\n",
        "\n",
        "If you are familiar with another programming language, start to draw parallels between lists in Python and arrays in other language. There are two reasons which tells why the lists in Python are more flexible than arrays in other programming language:\n",
        "\n",
        "a. They have no fixed size (which means we need not to specify how big the list will be)\n",
        "b. They have no fixed type constraint \n",
        "\n",
        "Let's go ahead and explore some more special methods for lists:"
      ]
    },
    {
      "cell_type": "code",
      "execution_count": 104,
      "metadata": {
        "id": "Ut9w2kERn6Uf"
      },
      "outputs": [],
      "source": [
        "# Create a new list\n",
        "l=['one','two','three','four']"
      ]
    },
    {
      "cell_type": "markdown",
      "metadata": {
        "id": "S8kosH1_n6Uf"
      },
      "source": [
        "Use the **append** method to permanently add an item to the end of a list:"
      ]
    },
    {
      "cell_type": "code",
      "execution_count": 105,
      "metadata": {
        "id": "hWwAlQ0rn6Uf"
      },
      "outputs": [],
      "source": [
        "# Append\n",
        "l.append(\"five\")"
      ]
    },
    {
      "cell_type": "code",
      "execution_count": 106,
      "metadata": {
        "colab": {
          "base_uri": "https://localhost:8080/"
        },
        "id": "Hzz1T41Wn6Uf",
        "outputId": "dbd4fd5e-c1ae-40c6-9f1d-9b2960f66264"
      },
      "outputs": [
        {
          "output_type": "execute_result",
          "data": {
            "text/plain": [
              "['one', 'two', 'three', 'four', 'five']"
            ]
          },
          "metadata": {},
          "execution_count": 106
        }
      ],
      "source": [
        "# Show\n",
        "l"
      ]
    },
    {
      "cell_type": "markdown",
      "metadata": {
        "id": "x_zEAn2wn6Ug"
      },
      "source": [
        "Use **pop** to \"pop off\" an item from the list. By default pop takes off the last index, but you can also specify which index to pop off. Let's see an example:"
      ]
    },
    {
      "cell_type": "code",
      "execution_count": 107,
      "metadata": {
        "colab": {
          "base_uri": "https://localhost:8080/",
          "height": 35
        },
        "id": "njHuZ0snn6Ug",
        "outputId": "c179c7d9-a5c4-4147-9c58-20a498d69bf0"
      },
      "outputs": [
        {
          "output_type": "execute_result",
          "data": {
            "text/plain": [
              "'one'"
            ],
            "application/vnd.google.colaboratory.intrinsic+json": {
              "type": "string"
            }
          },
          "metadata": {},
          "execution_count": 107
        }
      ],
      "source": [
        "# Pop off the 0 indexed item\n",
        "l.pop(0)"
      ]
    },
    {
      "cell_type": "code",
      "execution_count": 108,
      "metadata": {
        "colab": {
          "base_uri": "https://localhost:8080/"
        },
        "id": "wRc7fqVsn6Ug",
        "outputId": "e6b2df02-594e-4f64-aadc-f04b864f5574"
      },
      "outputs": [
        {
          "output_type": "execute_result",
          "data": {
            "text/plain": [
              "['two', 'three', 'four', 'five']"
            ]
          },
          "metadata": {},
          "execution_count": 108
        }
      ],
      "source": [
        "# Show\n",
        "l"
      ]
    },
    {
      "cell_type": "code",
      "execution_count": 109,
      "metadata": {
        "id": "FUXwQSOPn6Ug"
      },
      "outputs": [],
      "source": [
        "# Assign the popped element, remember default popped index is -1\n",
        "pop=l.pop()"
      ]
    },
    {
      "cell_type": "code",
      "execution_count": 110,
      "metadata": {
        "colab": {
          "base_uri": "https://localhost:8080/",
          "height": 35
        },
        "id": "YMOYtxQIn6Uh",
        "outputId": "f359b27d-3404-432d-f71f-b1c3a92aa630"
      },
      "outputs": [
        {
          "output_type": "execute_result",
          "data": {
            "text/plain": [
              "'five'"
            ],
            "application/vnd.google.colaboratory.intrinsic+json": {
              "type": "string"
            }
          },
          "metadata": {},
          "execution_count": 110
        }
      ],
      "source": [
        "pop"
      ]
    },
    {
      "cell_type": "code",
      "execution_count": 111,
      "metadata": {
        "colab": {
          "base_uri": "https://localhost:8080/"
        },
        "id": "YWX5WmS-n6Uh",
        "outputId": "bef5b18c-b4d8-4257-8be6-a91b8a0d36d0"
      },
      "outputs": [
        {
          "output_type": "execute_result",
          "data": {
            "text/plain": [
              "['two', 'three', 'four']"
            ]
          },
          "metadata": {},
          "execution_count": 111
        }
      ],
      "source": [
        "# Show remaining list\n",
        "l"
      ]
    },
    {
      "cell_type": "markdown",
      "metadata": {
        "id": "S2WXzd-ln6Uh"
      },
      "source": [
        "Note that lists indexing will return an error if there is no element at that index. For example:"
      ]
    },
    {
      "cell_type": "code",
      "execution_count": 112,
      "metadata": {
        "colab": {
          "base_uri": "https://localhost:8080/",
          "height": 165
        },
        "id": "n-q3eLCEn6Uh",
        "outputId": "364d5c24-45c6-4266-eeef-3c6510f8cfec"
      },
      "outputs": [
        {
          "output_type": "error",
          "ename": "IndexError",
          "evalue": "ignored",
          "traceback": [
            "\u001b[0;31m---------------------------------------------------------------------------\u001b[0m",
            "\u001b[0;31mIndexError\u001b[0m                                Traceback (most recent call last)",
            "\u001b[0;32m<ipython-input-112-b203c48d6878>\u001b[0m in \u001b[0;36m<module>\u001b[0;34m()\u001b[0m\n\u001b[0;32m----> 1\u001b[0;31m \u001b[0ml\u001b[0m\u001b[0;34m[\u001b[0m\u001b[0;36m89\u001b[0m\u001b[0;34m]\u001b[0m\u001b[0;34m\u001b[0m\u001b[0;34m\u001b[0m\u001b[0m\n\u001b[0m",
            "\u001b[0;31mIndexError\u001b[0m: list index out of range"
          ]
        }
      ],
      "source": [
        "l[89]"
      ]
    },
    {
      "cell_type": "markdown",
      "metadata": {
        "id": "fXDlqKtfn6Ui"
      },
      "source": [
        "We can use the **sort** method and the **reverse** methods to also effect your lists:"
      ]
    },
    {
      "cell_type": "code",
      "execution_count": 116,
      "metadata": {
        "id": "YZivzOXFn6Ui"
      },
      "outputs": [],
      "source": [
        "l=['one','two','three','four']"
      ]
    },
    {
      "cell_type": "code",
      "execution_count": 117,
      "metadata": {
        "colab": {
          "base_uri": "https://localhost:8080/"
        },
        "id": "pi1RD-PZn6Ui",
        "outputId": "952f8008-85b2-4276-c06f-264b3cc96525"
      },
      "outputs": [
        {
          "output_type": "execute_result",
          "data": {
            "text/plain": [
              "['one', 'two', 'three', 'four']"
            ]
          },
          "metadata": {},
          "execution_count": 117
        }
      ],
      "source": [
        "#Show\n",
        "l"
      ]
    },
    {
      "cell_type": "code",
      "execution_count": 118,
      "metadata": {
        "id": "dkmFhWbyn6Ui"
      },
      "outputs": [],
      "source": [
        "# Use reverse to reverse order (this is permanent!)\n",
        "l.reverse()"
      ]
    },
    {
      "cell_type": "code",
      "execution_count": 119,
      "metadata": {
        "colab": {
          "base_uri": "https://localhost:8080/"
        },
        "id": "PAELeIHvn6Ui",
        "outputId": "0331a856-9db1-47c3-ef7f-748b67ce956b"
      },
      "outputs": [
        {
          "output_type": "execute_result",
          "data": {
            "text/plain": [
              "['four', 'three', 'two', 'one']"
            ]
          },
          "metadata": {},
          "execution_count": 119
        }
      ],
      "source": [
        "l"
      ]
    },
    {
      "cell_type": "code",
      "execution_count": 120,
      "metadata": {
        "id": "_H1mfarpn6Ui"
      },
      "outputs": [],
      "source": [
        "# Use sort to sort the list (in this case alphabetical order, but for numbers it will go ascending)\n",
        "l.sort()"
      ]
    },
    {
      "cell_type": "code",
      "execution_count": 121,
      "metadata": {
        "colab": {
          "base_uri": "https://localhost:8080/"
        },
        "id": "sOQrvGMbn6Uj",
        "outputId": "57bbb029-5690-4db4-9b2b-749169b52fd8"
      },
      "outputs": [
        {
          "output_type": "execute_result",
          "data": {
            "text/plain": [
              "['four', 'one', 'three', 'two']"
            ]
          },
          "metadata": {},
          "execution_count": 121
        }
      ],
      "source": [
        "l"
      ]
    },
    {
      "cell_type": "markdown",
      "metadata": {
        "id": "3Nk2UyULn6Uj"
      },
      "source": [
        "## Nesting Lists\n",
        "\n",
        "Nesting Lists is one of the great features in Python data structures. Nesting Lists means we can have data structures within data structures. \n",
        "\n",
        "For example: A list inside a list.\n",
        "\n",
        "Let's see how Nesting lists works!"
      ]
    },
    {
      "cell_type": "code",
      "execution_count": 122,
      "metadata": {
        "id": "-2k3ii86n6Uj"
      },
      "outputs": [],
      "source": [
        "# Let's make three lists\n",
        "l1=[1,4,6]\n",
        "l2=[8,5,7]\n",
        "l3=[3,9,2]\n",
        "# Make a list of lists to form a matrix\n",
        "matrix=[l1,l2,l3]"
      ]
    },
    {
      "cell_type": "code",
      "execution_count": 123,
      "metadata": {
        "colab": {
          "base_uri": "https://localhost:8080/"
        },
        "id": "GzKvKeLpn6Uj",
        "outputId": "9856808c-ff33-4737-ce66-67a524f79341"
      },
      "outputs": [
        {
          "output_type": "execute_result",
          "data": {
            "text/plain": [
              "[[1, 4, 6], [8, 5, 7], [3, 9, 2]]"
            ]
          },
          "metadata": {},
          "execution_count": 123
        }
      ],
      "source": [
        "# Show\n",
        "matrix"
      ]
    },
    {
      "cell_type": "markdown",
      "metadata": {
        "id": "7p3G-UCmn6Uk"
      },
      "source": [
        "We can re-use indexing to grab elements, but now there are two levels for the index. \n",
        "\n",
        "a. The items in the matrix object\n",
        "b. The items inside the list"
      ]
    },
    {
      "cell_type": "code",
      "execution_count": 124,
      "metadata": {
        "colab": {
          "base_uri": "https://localhost:8080/"
        },
        "id": "OISs4Ve0n6Uk",
        "outputId": "5480062d-2481-4803-d1a5-f44258c23dbc"
      },
      "outputs": [
        {
          "output_type": "execute_result",
          "data": {
            "text/plain": [
              "[1, 4, 6]"
            ]
          },
          "metadata": {},
          "execution_count": 124
        }
      ],
      "source": [
        "# Grab first item in matrix object\n",
        "matrix[0]"
      ]
    },
    {
      "cell_type": "code",
      "execution_count": 125,
      "metadata": {
        "colab": {
          "base_uri": "https://localhost:8080/"
        },
        "id": "JFZoRpeRn6Uk",
        "outputId": "18a29148-a653-42d0-cf15-2358b1763753"
      },
      "outputs": [
        {
          "output_type": "execute_result",
          "data": {
            "text/plain": [
              "1"
            ]
          },
          "metadata": {},
          "execution_count": 125
        }
      ],
      "source": [
        "# Grab first item of the first item in the matrix object\n",
        "matrix[0][0]"
      ]
    },
    {
      "cell_type": "markdown",
      "metadata": {
        "id": "2z55dMFgn6Ul"
      },
      "source": [
        "# List Comprehensions\n",
        "\n",
        "Python has an advanced feature called list comprehensions which allows for quick construction of lists. \n",
        "\n",
        "Before we try to understand list comprehensions completely we need to understand \"for\" loops. \n",
        "\n",
        "So don't worry if you don't completely understand this section, and feel free to just skip it since we will return to this topic later.\n",
        "\n",
        "Here are few of oue examples which helps you to understand list comprehensions. "
      ]
    },
    {
      "cell_type": "code",
      "execution_count": 127,
      "metadata": {
        "id": "6Qv37V8qn6Um"
      },
      "outputs": [],
      "source": [
        "# Build a list comprehension by deconstructing a for loop within a []\n",
        "row=[row[0] for row in matrix]"
      ]
    },
    {
      "cell_type": "code",
      "execution_count": 128,
      "metadata": {
        "colab": {
          "base_uri": "https://localhost:8080/"
        },
        "id": "i6XwWlSFn6Um",
        "outputId": "4be84898-191d-49aa-e1f9-a5b21fc10685"
      },
      "outputs": [
        {
          "output_type": "execute_result",
          "data": {
            "text/plain": [
              "[1, 8, 3]"
            ]
          },
          "metadata": {},
          "execution_count": 128
        }
      ],
      "source": [
        "row"
      ]
    },
    {
      "cell_type": "markdown",
      "metadata": {
        "id": "a_snhD8Qn6Un"
      },
      "source": [
        "# Advanced Lists\n",
        "\n",
        "In this series of lectures, we will be diving a little deeper into all the available methods in a list object. These are just methods that should encountered without some additional exploring. Its pretty likely that you've already encountered some of these yourself!\n",
        "\n",
        "Lets begin!"
      ]
    },
    {
      "cell_type": "code",
      "execution_count": 134,
      "metadata": {
        "id": "aceQDA3jn6Un"
      },
      "outputs": [],
      "source": [
        "l=[1,5,8]"
      ]
    },
    {
      "cell_type": "markdown",
      "metadata": {
        "id": "kKRXCgAHn6Uo"
      },
      "source": [
        "## append\n",
        "\n",
        "Definitely, You have used this method by now, which merely appends an element to the end of a list:"
      ]
    },
    {
      "cell_type": "code",
      "execution_count": 135,
      "metadata": {
        "colab": {
          "base_uri": "https://localhost:8080/"
        },
        "id": "FCaHYmKHn6Uo",
        "outputId": "9c5d6d3f-d4a5-42b2-e9ed-57ee835a5991"
      },
      "outputs": [
        {
          "output_type": "execute_result",
          "data": {
            "text/plain": [
              "[1, 5, 8, 9]"
            ]
          },
          "metadata": {},
          "execution_count": 135
        }
      ],
      "source": [
        "l.append(9)\n",
        "l"
      ]
    },
    {
      "cell_type": "markdown",
      "metadata": {
        "id": "M8-yJ7Okn6Uo"
      },
      "source": [
        "## count\n",
        "We discussed this during the methods lectures, but here it is again. count() takes in an element and returns the number of times it occures in your list:"
      ]
    },
    {
      "cell_type": "code",
      "execution_count": 136,
      "metadata": {
        "colab": {
          "base_uri": "https://localhost:8080/"
        },
        "id": "-cnxrNAFn6Up",
        "outputId": "e17eb538-51b5-4d8b-b1e0-7d6848c9b323"
      },
      "outputs": [
        {
          "output_type": "execute_result",
          "data": {
            "text/plain": [
              "0"
            ]
          },
          "metadata": {},
          "execution_count": 136
        }
      ],
      "source": [
        "l.count(4)"
      ]
    },
    {
      "cell_type": "code",
      "execution_count": 137,
      "metadata": {
        "colab": {
          "base_uri": "https://localhost:8080/"
        },
        "id": "UwnitvL8n6Up",
        "outputId": "f20995d5-f4a8-4fa5-9b02-a5955ca5a95a"
      },
      "outputs": [
        {
          "output_type": "execute_result",
          "data": {
            "text/plain": [
              "1"
            ]
          },
          "metadata": {},
          "execution_count": 137
        }
      ],
      "source": [
        "l.count(8)"
      ]
    },
    {
      "cell_type": "markdown",
      "metadata": {
        "id": "C9eSJb24n6Up"
      },
      "source": [
        "## extend\n",
        "Many times people find the difference between extend and append to be unclear. So note that,\n",
        "\n",
        "**append: Appends object at end**"
      ]
    },
    {
      "cell_type": "code",
      "execution_count": 138,
      "metadata": {
        "colab": {
          "base_uri": "https://localhost:8080/"
        },
        "id": "BiEXqJAMn6Up",
        "outputId": "cc96e3fa-64c7-4fac-b5a0-c3ad20f8a572"
      },
      "outputs": [
        {
          "output_type": "execute_result",
          "data": {
            "text/plain": [
              "[2, 6, 4, [7, 9]]"
            ]
          },
          "metadata": {},
          "execution_count": 138
        }
      ],
      "source": [
        "x=[2,6,4]\n",
        "x.append([7,9])\n",
        "x"
      ]
    },
    {
      "cell_type": "markdown",
      "metadata": {
        "id": "jp-oEoa0n6Up"
      },
      "source": [
        "**extend: extends list by appending elements from the iterable**"
      ]
    },
    {
      "cell_type": "code",
      "execution_count": 140,
      "metadata": {
        "colab": {
          "base_uri": "https://localhost:8080/"
        },
        "id": "s9m8oa84n6Uq",
        "outputId": "2cefb6d2-793a-4e71-f9f2-05d18649d8b4"
      },
      "outputs": [
        {
          "output_type": "execute_result",
          "data": {
            "text/plain": [
              "[2, 6, 4, 3, 5]"
            ]
          },
          "metadata": {},
          "execution_count": 140
        }
      ],
      "source": [
        "x=[2,6,4]\n",
        "x.extend([3,5])\n",
        "x"
      ]
    },
    {
      "cell_type": "markdown",
      "metadata": {
        "id": "JmjmkMx2n6Uq"
      },
      "source": [
        "Note how extend append each element in that iterable. That is the key difference."
      ]
    },
    {
      "cell_type": "markdown",
      "metadata": {
        "id": "Zr5skQpPn6Uq"
      },
      "source": [
        "## index\n",
        "\n",
        "index returns the element placed as an argument. Make a note that if the element is not in the list then it returns an error.\n"
      ]
    },
    {
      "cell_type": "code",
      "execution_count": 142,
      "metadata": {
        "colab": {
          "base_uri": "https://localhost:8080/"
        },
        "id": "6Lamuesan6Ur",
        "outputId": "ca5a50ef-11e6-41fe-d4f2-aa83fdea88ae"
      },
      "outputs": [
        {
          "output_type": "stream",
          "name": "stdout",
          "text": [
            "[1, 5, 8, 9]\n"
          ]
        },
        {
          "output_type": "execute_result",
          "data": {
            "text/plain": [
              "2"
            ]
          },
          "metadata": {},
          "execution_count": 142
        }
      ],
      "source": [
        "print(l)\n",
        "l.index(8)"
      ]
    },
    {
      "cell_type": "code",
      "execution_count": 144,
      "metadata": {
        "colab": {
          "base_uri": "https://localhost:8080/"
        },
        "id": "SF_FoZZcn6Ur",
        "outputId": "1bd3ed1a-a4c5-4840-ff2f-b2d805f62258"
      },
      "outputs": [
        {
          "output_type": "execute_result",
          "data": {
            "text/plain": [
              "1"
            ]
          },
          "metadata": {},
          "execution_count": 144
        }
      ],
      "source": [
        "l.index(5)"
      ]
    },
    {
      "cell_type": "markdown",
      "metadata": {
        "id": "yOjAl87gn6Ur"
      },
      "source": [
        "## insert \n",
        "\n",
        "Two arguments can be placed in insert method. \n",
        "\n",
        "Syntax: insert(index,object) \n",
        "\n",
        "This method places the object at the index supplied. For example:"
      ]
    },
    {
      "cell_type": "code",
      "execution_count": 145,
      "metadata": {
        "colab": {
          "base_uri": "https://localhost:8080/"
        },
        "id": "5q9tzxNln6Ur",
        "outputId": "3121c017-31a1-4c5b-ee3e-b06e1a98cb9b"
      },
      "outputs": [
        {
          "output_type": "execute_result",
          "data": {
            "text/plain": [
              "[1, 5, 8, 9]"
            ]
          },
          "metadata": {},
          "execution_count": 145
        }
      ],
      "source": [
        "l"
      ]
    },
    {
      "cell_type": "code",
      "execution_count": 146,
      "metadata": {
        "id": "Zsi8npUyn6Ur"
      },
      "outputs": [],
      "source": [
        "# Place a letter at the index 2\n",
        "l.insert(2,'sainath')"
      ]
    },
    {
      "cell_type": "code",
      "execution_count": 147,
      "metadata": {
        "colab": {
          "base_uri": "https://localhost:8080/"
        },
        "id": "cTh8666Jn6Us",
        "outputId": "e7c3da07-a508-4806-f274-fa65f92efd10"
      },
      "outputs": [
        {
          "output_type": "execute_result",
          "data": {
            "text/plain": [
              "[1, 5, 'sainath', 8, 9]"
            ]
          },
          "metadata": {},
          "execution_count": 147
        }
      ],
      "source": [
        "l"
      ]
    },
    {
      "cell_type": "markdown",
      "metadata": {
        "id": "fG2vAqlyn6Us"
      },
      "source": [
        "## pop\n",
        "You most likely have already seen pop(), which allows us to \"pop\" off the last element of a list. "
      ]
    },
    {
      "cell_type": "code",
      "execution_count": 148,
      "metadata": {
        "id": "IdZ5BSnxn6Us"
      },
      "outputs": [],
      "source": [
        "ele=l.pop()"
      ]
    },
    {
      "cell_type": "code",
      "execution_count": 149,
      "metadata": {
        "colab": {
          "base_uri": "https://localhost:8080/"
        },
        "id": "LSGC-PAqn6Us",
        "outputId": "d1390046-2a08-4269-a49c-02dbdfd6a171"
      },
      "outputs": [
        {
          "output_type": "execute_result",
          "data": {
            "text/plain": [
              "[1, 5, 'sainath', 8]"
            ]
          },
          "metadata": {},
          "execution_count": 149
        }
      ],
      "source": [
        "l"
      ]
    },
    {
      "cell_type": "code",
      "execution_count": 150,
      "metadata": {
        "colab": {
          "base_uri": "https://localhost:8080/"
        },
        "id": "9O5DiqKgn6Ut",
        "outputId": "8c14bfec-b909-4649-f06e-60b6c3bc1445"
      },
      "outputs": [
        {
          "output_type": "execute_result",
          "data": {
            "text/plain": [
              "9"
            ]
          },
          "metadata": {},
          "execution_count": 150
        }
      ],
      "source": [
        "ele"
      ]
    },
    {
      "cell_type": "markdown",
      "metadata": {
        "id": "lgSfviNsn6Ut"
      },
      "source": [
        "## remove\n",
        "The remove() method removes the first occurrence of a value. For example:"
      ]
    },
    {
      "cell_type": "code",
      "execution_count": 151,
      "metadata": {
        "colab": {
          "base_uri": "https://localhost:8080/"
        },
        "id": "j208_lGHn6Ut",
        "outputId": "218e5c87-cd74-449e-9331-ef9fc374f5fc"
      },
      "outputs": [
        {
          "output_type": "execute_result",
          "data": {
            "text/plain": [
              "[1, 5, 'sainath', 8]"
            ]
          },
          "metadata": {},
          "execution_count": 151
        }
      ],
      "source": [
        "l"
      ]
    },
    {
      "cell_type": "code",
      "execution_count": 152,
      "metadata": {
        "id": "F0XEHBGdn6Uu"
      },
      "outputs": [],
      "source": [
        "l.remove('sainath')"
      ]
    },
    {
      "cell_type": "code",
      "execution_count": 153,
      "metadata": {
        "colab": {
          "base_uri": "https://localhost:8080/"
        },
        "id": "HSnbLyk3n6Uu",
        "outputId": "d79592a0-e18e-46ce-8776-ae83ffc2f836"
      },
      "outputs": [
        {
          "output_type": "execute_result",
          "data": {
            "text/plain": [
              "[1, 5, 8]"
            ]
          },
          "metadata": {},
          "execution_count": 153
        }
      ],
      "source": [
        "l"
      ]
    },
    {
      "cell_type": "code",
      "execution_count": 156,
      "metadata": {
        "id": "5eIv3rw-n6Uv"
      },
      "outputs": [],
      "source": [
        "l=[1,2,3,4,3]"
      ]
    },
    {
      "cell_type": "code",
      "execution_count": 157,
      "metadata": {
        "id": "ln8jcACwn6Uv"
      },
      "outputs": [],
      "source": [
        "l.remove(3)"
      ]
    },
    {
      "cell_type": "code",
      "execution_count": 158,
      "metadata": {
        "colab": {
          "base_uri": "https://localhost:8080/"
        },
        "id": "FujHjg5-n6Uv",
        "outputId": "271e2c60-a6ae-4958-df2f-9f8bbbe4c021"
      },
      "outputs": [
        {
          "output_type": "execute_result",
          "data": {
            "text/plain": [
              "[1, 2, 4, 3]"
            ]
          },
          "metadata": {},
          "execution_count": 158
        }
      ],
      "source": [
        "l"
      ]
    },
    {
      "cell_type": "markdown",
      "metadata": {
        "id": "SRz-8rQen6Uv"
      },
      "source": [
        "## reverse\n",
        "As the name suggests, reverse() helps you to reverse a list. Note this occurs in place! Meaning it effects your list permanently."
      ]
    },
    {
      "cell_type": "code",
      "execution_count": 159,
      "metadata": {
        "id": "Ff1T26TLn6Uv"
      },
      "outputs": [],
      "source": [
        "l.reverse()"
      ]
    },
    {
      "cell_type": "code",
      "execution_count": 160,
      "metadata": {
        "colab": {
          "base_uri": "https://localhost:8080/"
        },
        "id": "tKCI7dakn6Uv",
        "outputId": "0135a51f-60e2-4239-d1fd-f553a27428dc"
      },
      "outputs": [
        {
          "output_type": "execute_result",
          "data": {
            "text/plain": [
              "[3, 4, 2, 1]"
            ]
          },
          "metadata": {},
          "execution_count": 160
        }
      ],
      "source": [
        "l"
      ]
    },
    {
      "cell_type": "markdown",
      "metadata": {
        "id": "UBHHLG07n6Uw"
      },
      "source": [
        "## sort\n",
        "sort will sort your list in place:"
      ]
    },
    {
      "cell_type": "code",
      "execution_count": 161,
      "metadata": {
        "colab": {
          "base_uri": "https://localhost:8080/"
        },
        "id": "NIaRM6m0n6Uw",
        "outputId": "3f27e56c-b07a-45fd-9526-d61d850cd072"
      },
      "outputs": [
        {
          "output_type": "execute_result",
          "data": {
            "text/plain": [
              "[3, 4, 2, 1]"
            ]
          },
          "metadata": {},
          "execution_count": 161
        }
      ],
      "source": [
        "l"
      ]
    },
    {
      "cell_type": "code",
      "execution_count": 162,
      "metadata": {
        "id": "J-tiWdLBn6Uw"
      },
      "outputs": [],
      "source": [
        "l.sort()"
      ]
    },
    {
      "cell_type": "code",
      "execution_count": 163,
      "metadata": {
        "colab": {
          "base_uri": "https://localhost:8080/"
        },
        "id": "6wHbDEGhn6Uw",
        "outputId": "19aa5e27-3a00-4774-d961-4ca28aa8770f"
      },
      "outputs": [
        {
          "output_type": "execute_result",
          "data": {
            "text/plain": [
              "[1, 2, 3, 4]"
            ]
          },
          "metadata": {},
          "execution_count": 163
        }
      ],
      "source": [
        "l"
      ]
    },
    {
      "cell_type": "code",
      "execution_count": 166,
      "metadata": {
        "colab": {
          "base_uri": "https://localhost:8080/"
        },
        "id": "aSd38x3zn6Uw",
        "outputId": "bb839255-c9bb-4d01-9ce2-eea0015ac242"
      },
      "outputs": [
        {
          "output_type": "execute_result",
          "data": {
            "text/plain": [
              "2"
            ]
          },
          "metadata": {},
          "execution_count": 166
        }
      ],
      "source": [
        "l.index(3)"
      ]
    }
  ],
  "metadata": {
    "kernelspec": {
      "display_name": "Python 3",
      "language": "python",
      "name": "python3"
    },
    "language_info": {
      "codemirror_mode": {
        "name": "ipython",
        "version": 3
      },
      "file_extension": ".py",
      "mimetype": "text/x-python",
      "name": "python",
      "nbconvert_exporter": "python",
      "pygments_lexer": "ipython3",
      "version": "3.7.3"
    },
    "colab": {
      "name": "Python Notebook 2.ipynb",
      "provenance": [],
      "collapsed_sections": [],
      "include_colab_link": true
    }
  },
  "nbformat": 4,
  "nbformat_minor": 0
}