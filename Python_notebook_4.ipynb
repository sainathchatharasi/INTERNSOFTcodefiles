{
  "cells": [
    {
      "cell_type": "markdown",
      "metadata": {
        "id": "view-in-github",
        "colab_type": "text"
      },
      "source": [
        "<a href=\"https://colab.research.google.com/github/sainathchatharasi/INTERNSOFTcodefiles/blob/main/Python_notebook_4.ipynb\" target=\"_parent\"><img src=\"https://colab.research.google.com/assets/colab-badge.svg\" alt=\"Open In Colab\"/></a>"
      ]
    },
    {
      "cell_type": "markdown",
      "metadata": {
        "id": "8ETb_4QqtuFB"
      },
      "source": [
        "# Object Oriented Programming and File I/O"
      ]
    },
    {
      "cell_type": "markdown",
      "metadata": {
        "id": "gg4-frfLtuFL"
      },
      "source": [
        "__Object Oriented Programming (OOP)__ is a programming paradigm that allows abstraction through the concept of interacting entities. This programming works contradictory to conventional model and is procedural, in which programs are organized as a sequence of commands or statements to perform.\n",
        "\n",
        "We can think an object as an entity that resides in memory, has a state and it's able to perform some actions. \n",
        " \n",
        "More formally objects are entities that represent **instances** of a general abstract concept called **class**. In `Python`, \"attributes\" are the variables defining an object state and the possible actions are called \"methods\".\n",
        "\n",
        "In Python, everything is an object also classes and functions."
      ]
    },
    {
      "cell_type": "markdown",
      "metadata": {
        "id": "zhxojapntuFM"
      },
      "source": [
        "## 1 How to define classes"
      ]
    },
    {
      "cell_type": "markdown",
      "metadata": {
        "id": "H3Dw9d9-tuFN"
      },
      "source": [
        "### 1.1 Creating a class"
      ]
    },
    {
      "cell_type": "markdown",
      "metadata": {
        "id": "M2r-DZLatuFO"
      },
      "source": [
        "Suppose we want to create a class, named Person, as a prototype, a sort of template for any number of 'Person' objects (instances)."
      ]
    },
    {
      "cell_type": "markdown",
      "metadata": {
        "id": "Ct5XdEP-tuFP"
      },
      "source": [
        "The following python syntax defines a class:\n",
        "\n",
        "    class ClassName(base_classes):\n",
        "        statements\n",
        "\n",
        "        "
      ]
    },
    {
      "cell_type": "markdown",
      "metadata": {
        "id": "aPObEn0htuFP"
      },
      "source": [
        "Class names should always be uppercase (it's a naming convention)."
      ]
    },
    {
      "cell_type": "markdown",
      "metadata": {
        "id": "aYch7r85tuFT"
      },
      "source": [
        "Say we need to model a Person as:\n",
        "\n",
        "* Name\n",
        "* Surname  \n",
        "* Age  "
      ]
    },
    {
      "cell_type": "code",
      "execution_count": 2,
      "metadata": {
        "colab": {
          "base_uri": "https://localhost:8080/"
        },
        "id": "APXljnYHtuFY",
        "outputId": "e6873425-d045-44a4-9a01-4343a4af677f"
      },
      "outputs": [
        {
          "output_type": "stream",
          "name": "stdout",
          "text": [
            "<__main__.Person object at 0x7f7077de3950>\n",
            "sainath_naidu ch was born in 2001.\n"
          ]
        }
      ],
      "source": [
        "class Person:\n",
        "    pass\n",
        "sainath=Person()\n",
        "sainath.name=\"sainath_naidu\"\n",
        "sainath.surname=\"ch\"\n",
        "sainath.yob=2001\n",
        "print(sainath)\n",
        "print(\"%s %s was born in %d.\"%(sainath.name,sainath.surname,sainath.yob))"
      ]
    },
    {
      "cell_type": "markdown",
      "metadata": {
        "id": "Rlj--Uo9tuFc"
      },
      "source": [
        "The following example defines an empty class (i.e. the class doesn't have a state) called _Person_ then creates a _Person_ instance called _john_doe_ and adds three attributes to _john_doe_. We see that we can access objects attributes using the \"dot\" operator.\n",
        "\n",
        "This isn't a recommended style because classes should describe homogeneous entities. A way to do so is the following:"
      ]
    },
    {
      "cell_type": "code",
      "execution_count": 3,
      "metadata": {
        "id": "Heue5i36tuFd"
      },
      "outputs": [],
      "source": [
        "class Person:\n",
        "    def __init__(self,name,surname,yob):\n",
        "        self.name=name\n",
        "        self.surname=surname\n",
        "        self.yob=yob"
      ]
    },
    {
      "cell_type": "markdown",
      "metadata": {
        "id": "M_MhEVBNtuFd"
      },
      "source": [
        "    __init__(self, ...)\n",
        "Is a special _Python_ method that is automatically called after an object construction. Its purpose is to initialize every object state. The first argument (by convention) __self__ is automatically passed either and refers to the object itself.\n",
        "\n",
        "In the preceding example, `__init__` adds three attributes to every object that is instantiated. So the class is actually describing each object's state.\n"
      ]
    },
    {
      "cell_type": "markdown",
      "metadata": {
        "id": "6kPpioXotuFe"
      },
      "source": [
        "We cannot directly manipulate any class rather we need to create an instance of the class: "
      ]
    },
    {
      "cell_type": "code",
      "execution_count": 5,
      "metadata": {
        "colab": {
          "base_uri": "https://localhost:8080/"
        },
        "id": "Ur23-XoLtuFe",
        "outputId": "1fc20572-d0b1-4ed1-e9be-2fd16b620c28"
      },
      "outputs": [
        {
          "output_type": "stream",
          "name": "stdout",
          "text": [
            "<__main__.Person object at 0x7f7077da4fd0>\n",
            "sainath ch was born in 2001.\n"
          ]
        }
      ],
      "source": [
        "sai=Person(\"sainath\",\"ch\",2001)\n",
        "print(sai)\n",
        "print(\"%s %s was born in %d.\"%(sai.name,sai.surname,sai.yob))"
      ]
    },
    {
      "cell_type": "markdown",
      "metadata": {
        "id": "2tiSRDu5tuFf"
      },
      "source": [
        "\n",
        "We have just created an instance of the Person class, bound to the variable `alec`. "
      ]
    },
    {
      "cell_type": "markdown",
      "metadata": {
        "id": "TGKhnfn4tuFg"
      },
      "source": [
        "### 1.2 Methods"
      ]
    },
    {
      "cell_type": "code",
      "execution_count": 7,
      "metadata": {
        "colab": {
          "base_uri": "https://localhost:8080/"
        },
        "id": "izxrA4fttuFg",
        "outputId": "b90d62b4-446c-4985-960a-e45af0fdd836"
      },
      "outputs": [
        {
          "output_type": "stream",
          "name": "stdout",
          "text": [
            "sainath ch was born in 2001.\n",
            "21\n"
          ]
        }
      ],
      "source": [
        "class Person:\n",
        "    def __init__(self,name,surname,yob):\n",
        "        self.name=name\n",
        "        self.surname=surname\n",
        "        self.yob=yob\n",
        "    def age(self,curyear):\n",
        "        return curyear-self.yob\n",
        "    def __str__(self):\n",
        "        return \"%s %s was born in %d.\"%(self.name,self.surname,self.yob)\n",
        "sai=Person(\"sainath\",\"ch\",2001)\n",
        "print(sai)\n",
        "print(sai.age(2022))"
      ]
    },
    {
      "cell_type": "code",
      "execution_count": 8,
      "metadata": {
        "colab": {
          "base_uri": "https://localhost:8080/"
        },
        "id": "Buf5vgHituFo",
        "outputId": "1f601259-f01b-46bd-a96c-1925b0153fcf"
      },
      "outputs": [
        {
          "output_type": "stream",
          "name": "stdout",
          "text": [
            "king george was born in 1995.\n",
            "29\n"
          ]
        }
      ],
      "source": [
        "class Person:\n",
        "    def __init__(self,name,surname,yob):\n",
        "        self.name=name\n",
        "        self.surname=surname\n",
        "        self.yob=yob\n",
        "    def age(self,curyear):\n",
        "        return curyear-self.yob\n",
        "    def __str__(self):\n",
        "        return \"%s %s was born in %d.\"%(self.name,self.surname,self.yob)\n",
        "sai=Person(\"king\",\"george\",1995)\n",
        "print(sai)\n",
        "print(sai.age(2024))"
      ]
    },
    {
      "cell_type": "markdown",
      "metadata": {
        "id": "700jhleutuFp"
      },
      "source": [
        "We defined two more methods `age` and  `__str__`. The latter is once again a special method that is called by Python when the object has to be represented as a string (e.g. when has to be printed). If the `__str__` method isn't defined the **print** command shows the type of object and its address in memory. We can see that in order to call a method we use the same syntax for attributes (**instance_name.instance _method**)."
      ]
    },
    {
      "cell_type": "markdown",
      "metadata": {
        "id": "_6FfHz7VtuFr"
      },
      "source": [
        "## 2 Inheritance"
      ]
    },
    {
      "cell_type": "markdown",
      "metadata": {
        "id": "F-LOQ4TetuFv"
      },
      "source": [
        "Once a class is defined it models a concept. It is useful to extend a class behavior to model a less general concept. Say we need to model a Student, but we know that every student is also a Person so we shouldn't model the Person again but inherit from it instead."
      ]
    },
    {
      "cell_type": "code",
      "execution_count": 10,
      "metadata": {
        "colab": {
          "base_uri": "https://localhost:8080/"
        },
        "id": "VzHKTqcmtuFw",
        "outputId": "05b13f58-ccaa-4b0a-f9d8-7b0b4584301c"
      },
      "outputs": [
        {
          "output_type": "stream",
          "name": "stdout",
          "text": [
            "sainath ch was born in 2001.\n",
            "<class '__main__.Student'>\n",
            "True\n",
            "True\n"
          ]
        }
      ],
      "source": [
        "class Student(Person):\n",
        "    def __init__(self,studentid,*args,**kwargs):\n",
        "        super(Student,self).__init__(*args,**kwargs)\n",
        "        self._studentid=studentid\n",
        "sainath=Student(1,\"sainath\",\"ch\",2001)\n",
        "print(sainath)\n",
        "print(type(sainath))\n",
        "print(isinstance(sainath,Person))\n",
        "print(isinstance(sainath,object))"
      ]
    },
    {
      "cell_type": "markdown",
      "metadata": {
        "id": "tQ-gtAqHtuFx"
      },
      "source": [
        "Charlie now has the same behavior of a Person, but his state has also a student ID. A Person is one of the base classes of Student and Student is one of the sub classes of Person. Be aware that a subclass knows about its superclasses but the converse isn't true.\n",
        "\n",
        "A sub class doesn't only inherits from its base classes, but from its base classes too, forming an inheritance tree that starts from a object (every class base class).\n",
        "\n",
        "    super(Class, instance)\n",
        "    \n",
        "is a function that returns a proxy-object that delegates method calls to a parent or sibling class of type.\n",
        "So we used it to access Person's `__init__`."
      ]
    },
    {
      "cell_type": "markdown",
      "metadata": {
        "id": "pEmYw-7utuF5"
      },
      "source": [
        "### 2.1 Overriding methods"
      ]
    },
    {
      "cell_type": "markdown",
      "metadata": {
        "id": "4BC14LkLtuF6"
      },
      "source": [
        "Inheritance allows to add new methods to a subclass but often is useful to change the behavior of a method defined in the superclass. To override a method just define it again."
      ]
    },
    {
      "cell_type": "code",
      "execution_count": 16,
      "metadata": {
        "colab": {
          "base_uri": "https://localhost:8080/"
        },
        "id": "uNWKWsHltuF7",
        "outputId": "6e8eb0a2-e12f-4b7c-a292-a3f0f5676186"
      },
      "outputs": [
        {
          "output_type": "stream",
          "name": "stdout",
          "text": [
            "sainath naidu was born in 2001.And has id:2\n"
          ]
        }
      ],
      "source": [
        " class Student(Person):\n",
        "    def __init__(self,studentid,*args,**kwargs):\n",
        "        super(Student,self).__init__(*args,**kwargs)\n",
        "        self._studentid=studentid\n",
        "    def __str__(self):\n",
        "        return super(Student,self).__str__()+\"And has id:%d\"%self._studentid\n",
        "sainath=Student(2,\"sainath\",\"naidu\",2001)\n",
        "print(sainath)"
      ]
    },
    {
      "cell_type": "markdown",
      "metadata": {
        "id": "IG7hZjBstuF8"
      },
      "source": [
        "We defined `__str__` again overriding the one wrote in Person, but we wanted to extend it, so we used super to achieve our goal."
      ]
    },
    {
      "cell_type": "markdown",
      "metadata": {
        "id": "RrMUvbMItuF9"
      },
      "source": [
        "## 3 Encapsulation"
      ]
    },
    {
      "cell_type": "markdown",
      "metadata": {
        "id": "v3hL5S32tuF-"
      },
      "source": [
        "Encapsulation is an another powerful way to extend a class which consists on wrapping an object with a second one.\n",
        "There are two main reasons to use encapsulation:\n",
        "* Composition\n",
        "* Dynamic Extension\n"
      ]
    },
    {
      "cell_type": "markdown",
      "metadata": {
        "id": "56jdumxmtuF_"
      },
      "source": [
        "### 3.1 Composition"
      ]
    },
    {
      "cell_type": "markdown",
      "metadata": {
        "id": "j4rYG6jntuGA"
      },
      "source": [
        "The abstraction process relies on creating a simplified model that remove useless details from a concept. In order to be simplified, a model should be described in terms of other simpler concepts.\n",
        "For example, we can say that a car is composed by:\n",
        "* Tyres\n",
        "* Engine\n",
        "* Body\n",
        "\n",
        "And break down each one of these elements in simpler parts until we reach primitive data."
      ]
    },
    {
      "cell_type": "markdown",
      "metadata": {
        "id": "Fr6xRWZUtuGC"
      },
      "source": [
        "## 4 Polymorphism and DuckTyping"
      ]
    },
    {
      "cell_type": "markdown",
      "metadata": {
        "id": "HpVQeslRtuGJ"
      },
      "source": [
        "`Python` uses dynamic typing which is also called as duck typing. If an object implements a method you can use it, irrespective of the type. This is different from statically typed languages, where the type of a construct need to be explicitly declared. Polymorphism is the ability to use the same syntax for objects of different types:"
      ]
    },
    {
      "cell_type": "code",
      "execution_count": 17,
      "metadata": {
        "colab": {
          "base_uri": "https://localhost:8080/"
        },
        "id": "KePTvdoZtuGN",
        "outputId": "1d6b53f3-baba-42ea-b358-b94791baa5ae"
      },
      "outputs": [
        {
          "output_type": "stream",
          "name": "stdout",
          "text": [
            "3\n",
            "['a', 'b', 'c', 'd', 'e']\n",
            "abracadabra\n"
          ]
        }
      ],
      "source": [
        "def summer(a,b):\n",
        "    return a+b\n",
        "print(summer(1,2))\n",
        "print(summer([\"a\",\"b\",\"c\"],[\"d\",\"e\"]))\n",
        "print(summer(\"abra\",\"cadabra\"))"
      ]
    },
    {
      "cell_type": "markdown",
      "metadata": {
        "id": "ir2pcF4OtuGO"
      },
      "source": [
        "## 5 How long does a class should be?"
      ]
    },
    {
      "cell_type": "markdown",
      "metadata": {
        "id": "W8gLt36wtuGP"
      },
      "source": [
        "There is an Object Oriented Programming (OOP) principle called Single Responsibility Principle (SRP) and it states: \"A class should have one single responsibility\" or \"A class should have only one reason to change\". \n",
        "\n",
        "If you come across a class which doesn't follow the SRP principle, you should spilt it. You will be grateful to SRP during your software maintenance. "
      ]
    },
    {
      "cell_type": "markdown",
      "metadata": {
        "id": "poPcixqutuGQ"
      },
      "source": [
        "# Files\n",
        "\n",
        "Python uses file objects to interact with the external files on your computer. These file objects cab be of any file format on your computer i.e. can be an audio file, a text file, emails, Excel documents, etc. Note that You will probably need to install certain libraries or modules to interact with those various file types, but they are easily available. (We will cover downloading modules later on in the course).\n",
        "\n",
        "Python has a built-in open function that allows us to open and play with basic file types. First we will need a file though. We're going to use some iPython magic to create a text file!\n",
        "\n",
        "## iPython Writing a File"
      ]
    },
    {
      "cell_type": "code",
      "execution_count": 23,
      "metadata": {
        "colab": {
          "base_uri": "https://localhost:8080/"
        },
        "id": "Bdb4M1kJtuGR",
        "outputId": "30321308-a61a-4dea-ddd1-15f97231351f"
      },
      "outputs": [
        {
          "output_type": "stream",
          "name": "stdout",
          "text": [
            "Overwriting king.txt\n"
          ]
        }
      ],
      "source": [
        "%%writefile king.txt\n",
        "hello, this is a quick text file"
      ]
    },
    {
      "cell_type": "markdown",
      "metadata": {
        "id": "BIvXeHDbtuGR"
      },
      "source": [
        "## Python Opening a file\n",
        "\n",
        "We can open a file with the open() function. This function also takes in arguments (also called parameters). Let's see how this is used:"
      ]
    },
    {
      "cell_type": "code",
      "execution_count": 28,
      "metadata": {
        "id": "2vDT_8g6tuGS"
      },
      "outputs": [],
      "source": [
        "# Open the text.txt we made earlier\n",
        "myfile=open('test.txt')"
      ]
    },
    {
      "cell_type": "code",
      "execution_count": 29,
      "metadata": {
        "colab": {
          "base_uri": "https://localhost:8080/",
          "height": 35
        },
        "id": "cu430DXctuGU",
        "outputId": "a77b7adc-a6ff-4361-e233-21c74a90ca82"
      },
      "outputs": [
        {
          "output_type": "execute_result",
          "data": {
            "text/plain": [
              "'hello, this is a quick text file'"
            ],
            "application/vnd.google.colaboratory.intrinsic+json": {
              "type": "string"
            }
          },
          "metadata": {},
          "execution_count": 29
        }
      ],
      "source": [
        "# We can now read the file\n",
        "myfile.read()"
      ]
    },
    {
      "cell_type": "code",
      "execution_count": 30,
      "metadata": {
        "colab": {
          "base_uri": "https://localhost:8080/",
          "height": 35
        },
        "id": "5HLRqnhMtuGW",
        "outputId": "a74425a1-ffaa-428f-8de4-9d0fc85be0bc"
      },
      "outputs": [
        {
          "output_type": "execute_result",
          "data": {
            "text/plain": [
              "''"
            ],
            "application/vnd.google.colaboratory.intrinsic+json": {
              "type": "string"
            }
          },
          "metadata": {},
          "execution_count": 30
        }
      ],
      "source": [
        "# But what happens if we try to read it again?\n",
        "myfile.read()"
      ]
    },
    {
      "cell_type": "markdown",
      "metadata": {
        "id": "1JVeFNp9tuGc"
      },
      "source": [
        "This happens because you can imagine the reading \"cursor\" is at the end of the file after having read it. So there is nothing left to read. We can reset the \"cursor\" like this:"
      ]
    },
    {
      "cell_type": "code",
      "execution_count": 31,
      "metadata": {
        "colab": {
          "base_uri": "https://localhost:8080/"
        },
        "id": "1xXCtyVFtuGd",
        "outputId": "235b79bd-df2e-4e15-bc91-4b7edff193e8"
      },
      "outputs": [
        {
          "output_type": "execute_result",
          "data": {
            "text/plain": [
              "0"
            ]
          },
          "metadata": {},
          "execution_count": 31
        }
      ],
      "source": [
        "# Seek to the start of file (index 0)\n",
        "myfile.seek(0)"
      ]
    },
    {
      "cell_type": "code",
      "execution_count": 32,
      "metadata": {
        "colab": {
          "base_uri": "https://localhost:8080/",
          "height": 35
        },
        "id": "7-wksEUttuGe",
        "outputId": "1292acab-841b-4eaf-9003-8d48bd36fbcb"
      },
      "outputs": [
        {
          "output_type": "execute_result",
          "data": {
            "text/plain": [
              "'hello, this is a quick text file'"
            ],
            "application/vnd.google.colaboratory.intrinsic+json": {
              "type": "string"
            }
          },
          "metadata": {},
          "execution_count": 32
        }
      ],
      "source": [
        "# Now read again\n",
        "myfile.read()"
      ]
    },
    {
      "cell_type": "markdown",
      "metadata": {
        "id": "MeC7NOvLtuGe"
      },
      "source": [
        "In order to not have to reset every time, we can also use the readlines method. Use caution with large files, since everything will be held in memory. We will learn how to iterate over large files later in the course."
      ]
    },
    {
      "cell_type": "code",
      "execution_count": 36,
      "metadata": {
        "colab": {
          "base_uri": "https://localhost:8080/"
        },
        "id": "VvQ-qtQYtuGf",
        "outputId": "de6a4058-a229-42d2-ca8a-faa002c64260"
      },
      "outputs": [
        {
          "output_type": "execute_result",
          "data": {
            "text/plain": [
              "0"
            ]
          },
          "metadata": {},
          "execution_count": 36
        }
      ],
      "source": [
        "# Seek to the start of file (index 0)\n",
        "myfile.seek(0)"
      ]
    },
    {
      "cell_type": "code",
      "execution_count": 37,
      "metadata": {
        "colab": {
          "base_uri": "https://localhost:8080/"
        },
        "id": "PDwfRAz5tuGg",
        "outputId": "0fa9c1a4-43d4-41c8-e5e6-909fc3e2080e"
      },
      "outputs": [
        {
          "output_type": "execute_result",
          "data": {
            "text/plain": [
              "['hello, this is a quick text file']"
            ]
          },
          "metadata": {},
          "execution_count": 37
        }
      ],
      "source": [
        "# Readlines returns a list of the lines in the file.\n",
        "myfile.readlines()"
      ]
    },
    {
      "cell_type": "markdown",
      "metadata": {
        "id": "pnAZCr3LtuGg"
      },
      "source": [
        "## Writing to a File\n",
        "\n",
        "By default, using the open() function will only allow us to read the file, we need to pass the argument 'w' to write over the file. For example:"
      ]
    },
    {
      "cell_type": "code",
      "execution_count": 38,
      "metadata": {
        "id": "QgR1kvjetuGh"
      },
      "outputs": [],
      "source": [
        "# Add the second argument to the function, 'w' which stands for write\n",
        "myfile=open('king.txt','w+')"
      ]
    },
    {
      "cell_type": "code",
      "execution_count": 39,
      "metadata": {
        "colab": {
          "base_uri": "https://localhost:8080/"
        },
        "id": "qc4c7r-vtuGi",
        "outputId": "4fcab2d0-57b5-4775-fcf4-315cc92c1644"
      },
      "outputs": [
        {
          "output_type": "execute_result",
          "data": {
            "text/plain": [
              "16"
            ]
          },
          "metadata": {},
          "execution_count": 39
        }
      ],
      "source": [
        "# Write to the file\n",
        "myfile.write(\"this is new line\")"
      ]
    },
    {
      "cell_type": "code",
      "execution_count": 40,
      "metadata": {
        "colab": {
          "base_uri": "https://localhost:8080/"
        },
        "id": "m8N06RYftuGj",
        "outputId": "f4da5bfe-d34d-45a7-96b6-822ea2f500b9"
      },
      "outputs": [
        {
          "output_type": "execute_result",
          "data": {
            "text/plain": [
              "0"
            ]
          },
          "metadata": {},
          "execution_count": 40
        }
      ],
      "source": [
        "# Seek to the start of file (index 0)\n",
        "myfile.seek(0)"
      ]
    },
    {
      "cell_type": "code",
      "execution_count": 41,
      "metadata": {
        "colab": {
          "base_uri": "https://localhost:8080/",
          "height": 35
        },
        "id": "fcd2DJ1XtuGs",
        "outputId": "2517bd81-de83-4ac1-ddbc-be85784dc8de"
      },
      "outputs": [
        {
          "output_type": "execute_result",
          "data": {
            "text/plain": [
              "'this is new line'"
            ],
            "application/vnd.google.colaboratory.intrinsic+json": {
              "type": "string"
            }
          },
          "metadata": {},
          "execution_count": 41
        }
      ],
      "source": [
        "# Read the file\n",
        "myfile.read()"
      ]
    },
    {
      "cell_type": "markdown",
      "metadata": {
        "id": "2JkqwOL3tuGt"
      },
      "source": [
        "## Iterating through a File\n",
        "\n",
        "Let's get a quick preview of a for loop by iterating over a text file. First, let's make a new text file with some iPython Magic:"
      ]
    },
    {
      "cell_type": "code",
      "execution_count": 43,
      "metadata": {
        "colab": {
          "base_uri": "https://localhost:8080/"
        },
        "id": "G2Y6G7OStuGu",
        "outputId": "928b55ca-b860-40c0-ceb8-634d3992bb64"
      },
      "outputs": [
        {
          "output_type": "stream",
          "name": "stdout",
          "text": [
            "Overwriting test.txt\n"
          ]
        }
      ],
      "source": [
        "%%writefile test.txt\n",
        "first line\n",
        "second line"
      ]
    },
    {
      "cell_type": "markdown",
      "metadata": {
        "id": "XjmcyB5ptuGv"
      },
      "source": [
        "Now we can use a little bit of flow to tell the program to for through every line of the file and do something:"
      ]
    },
    {
      "cell_type": "code",
      "execution_count": 44,
      "metadata": {
        "colab": {
          "base_uri": "https://localhost:8080/"
        },
        "id": "gMIFzSdetuGv",
        "outputId": "e3625c68-0d44-4f39-eac0-6892a1ccb4d3"
      },
      "outputs": [
        {
          "output_type": "stream",
          "name": "stdout",
          "text": [
            "first line\n",
            "\n",
            "second line\n"
          ]
        }
      ],
      "source": [
        "for line in open('test.txt'):\n",
        "    print(line)"
      ]
    },
    {
      "cell_type": "code",
      "execution_count": 45,
      "metadata": {
        "colab": {
          "base_uri": "https://localhost:8080/"
        },
        "id": "gAK9AUXVtuGv",
        "outputId": "8aee3f3e-41d7-45a6-b2fb-0ce249e95d9c"
      },
      "outputs": [
        {
          "output_type": "stream",
          "name": "stdout",
          "text": [
            "first line\n",
            "\n",
            "second line\n"
          ]
        }
      ],
      "source": [
        "# Pertaining to the first point above\n",
        "for i in open(\"test.txt\"):\n",
        "    print(i)"
      ]
    },
    {
      "cell_type": "markdown",
      "metadata": {
        "id": "Hw1JPLg_tuGw"
      },
      "source": [
        "# StringIO \n",
        "\n",
        "The StringIO module implements an in-memory filelike object. This object can then be used as input or output to most functions that would expect a standard file object.\n",
        "\n",
        "The best way to show this is by example:"
      ]
    },
    {
      "cell_type": "code",
      "execution_count": 59,
      "metadata": {
        "id": "CJDAoDY7tuGw"
      },
      "outputs": [],
      "source": [
        "from io import StringIO"
      ]
    },
    {
      "cell_type": "code",
      "execution_count": 60,
      "metadata": {
        "id": "4VNN__XGtuGx"
      },
      "outputs": [],
      "source": [
        "# Arbitrary String\n",
        "message='This is just a normal string'"
      ]
    },
    {
      "cell_type": "code",
      "execution_count": 61,
      "metadata": {
        "id": "WyCbEwCttuGy"
      },
      "outputs": [],
      "source": [
        "# Use StringIO method to set as file object\n",
        "f=StringIO(message)"
      ]
    },
    {
      "cell_type": "markdown",
      "metadata": {
        "id": "vfcjURM2tuGz"
      },
      "source": [
        "Now we have an object *f* that we will be able to treat just like a file. For example:"
      ]
    },
    {
      "cell_type": "code",
      "execution_count": 62,
      "metadata": {
        "colab": {
          "base_uri": "https://localhost:8080/",
          "height": 35
        },
        "id": "mP-0rudUtuG1",
        "outputId": "7446bee0-c257-4fbe-9b5c-3a158916f8c3"
      },
      "outputs": [
        {
          "output_type": "execute_result",
          "data": {
            "text/plain": [
              "'This is just a normal string'"
            ],
            "application/vnd.google.colaboratory.intrinsic+json": {
              "type": "string"
            }
          },
          "metadata": {},
          "execution_count": 62
        }
      ],
      "source": [
        "f.read()"
      ]
    },
    {
      "cell_type": "markdown",
      "metadata": {
        "id": "3lGixjCytuG2"
      },
      "source": [
        "We can also write to it"
      ]
    },
    {
      "cell_type": "code",
      "execution_count": 63,
      "metadata": {
        "colab": {
          "base_uri": "https://localhost:8080/"
        },
        "id": "vpxhhul8tuG5",
        "outputId": "d412ac66-6b9c-466f-bde6-94ab1e140e11"
      },
      "outputs": [
        {
          "output_type": "execute_result",
          "data": {
            "text/plain": [
              "15"
            ]
          },
          "metadata": {},
          "execution_count": 63
        }
      ],
      "source": [
        "f.write(\"hi i am sainath\")"
      ]
    },
    {
      "cell_type": "code",
      "execution_count": 64,
      "metadata": {
        "colab": {
          "base_uri": "https://localhost:8080/"
        },
        "id": "nUw-B_aItuG8",
        "outputId": "573a4051-5498-4d27-8216-779fbb0e8e82"
      },
      "outputs": [
        {
          "output_type": "execute_result",
          "data": {
            "text/plain": [
              "0"
            ]
          },
          "metadata": {},
          "execution_count": 64
        }
      ],
      "source": [
        "# Reset cursor just like you would a file\n",
        "f.seek(0)"
      ]
    },
    {
      "cell_type": "code",
      "execution_count": 65,
      "metadata": {
        "colab": {
          "base_uri": "https://localhost:8080/",
          "height": 35
        },
        "id": "eBpFvps2tuG9",
        "outputId": "5ac67e0e-ad2c-4ac6-b3a3-53a37669616a"
      },
      "outputs": [
        {
          "output_type": "execute_result",
          "data": {
            "text/plain": [
              "'This is just a normal stringhi i am sainath'"
            ],
            "application/vnd.google.colaboratory.intrinsic+json": {
              "type": "string"
            }
          },
          "metadata": {},
          "execution_count": 65
        }
      ],
      "source": [
        "# Read again\n",
        "f.read()"
      ]
    }
  ],
  "metadata": {
    "kernelspec": {
      "display_name": "Python 3",
      "language": "python",
      "name": "python3"
    },
    "language_info": {
      "codemirror_mode": {
        "name": "ipython",
        "version": 3
      },
      "file_extension": ".py",
      "mimetype": "text/x-python",
      "name": "python",
      "nbconvert_exporter": "python",
      "pygments_lexer": "ipython3",
      "version": "3.7.3"
    },
    "colab": {
      "name": "Python notebook 4.ipynb",
      "provenance": [],
      "collapsed_sections": [],
      "include_colab_link": true
    }
  },
  "nbformat": 4,
  "nbformat_minor": 0
}