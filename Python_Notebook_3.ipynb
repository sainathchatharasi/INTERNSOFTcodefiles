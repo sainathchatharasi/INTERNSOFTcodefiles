{
  "cells": [
    {
      "cell_type": "markdown",
      "metadata": {
        "id": "view-in-github",
        "colab_type": "text"
      },
      "source": [
        "<a href=\"https://colab.research.google.com/github/sainathchatharasi/INTERNSOFTcodefiles/blob/main/Python_Notebook_3.ipynb\" target=\"_parent\"><img src=\"https://colab.research.google.com/assets/colab-badge.svg\" alt=\"Open In Colab\"/></a>"
      ]
    },
    {
      "cell_type": "markdown",
      "metadata": {
        "id": "KGGr-2hbf-Hg"
      },
      "source": [
        "# In this session, we are going to explore other container objects and functions\n",
        "\n",
        "## In this session, we are going to learn the following key topics:\n",
        "*   Tuple\n",
        "*   Set\n",
        "*   Dictionary\n",
        "*   Function\n",
        "*   Lambda\n",
        "*   Iterator\n",
        "*   Generator\n",
        "*   Map\n",
        "*   Reduce\n",
        "*   Filter"
      ]
    },
    {
      "cell_type": "markdown",
      "metadata": {
        "id": "LHZH5lN_f-Hs"
      },
      "source": [
        "# Tuples\n",
        "\n",
        "In Python, tuples are similar to lists but they are immutable i.e. they cannot be changed. You would use the tuples to present data that shouldn't be changed, such as days of week or dates on  a calendar.\n",
        "\n",
        "In this section, we will get a brief overview of the following key topics:\n",
        "\n",
        "    1.) Constructing Tuples\n",
        "    2.) Basic Tuple Methods\n",
        "    3.) Immutability\n",
        "    4.) When to Use Tuples\n",
        "\n",
        "You'll have an intuition of how to use tuples based on what you've learned about lists. But, Tuples work very similar to lists but the  major difference is tuples are immutable.\n",
        "\n",
        "## Constructing Tuples\n",
        "\n",
        "The construction of tuples use () with elements separated by commas where in the arguments will be passed within brackets. For example:"
      ]
    },
    {
      "cell_type": "code",
      "execution_count": null,
      "metadata": {
        "id": "GXFRay70f-Hu"
      },
      "outputs": [],
      "source": [
        "# Can create a tuple with mixed types\n",
        "t=(1,2,3)"
      ]
    },
    {
      "cell_type": "code",
      "execution_count": null,
      "metadata": {
        "colab": {
          "base_uri": "https://localhost:8080/"
        },
        "id": "EtuSyvHTf-Hy",
        "outputId": "8403eb45-016b-4691-a627-f9410a8f8f30"
      },
      "outputs": [
        {
          "output_type": "execute_result",
          "data": {
            "text/plain": [
              "3"
            ]
          },
          "metadata": {},
          "execution_count": 2
        }
      ],
      "source": [
        "# Check len just like a list\n",
        "len(t)"
      ]
    },
    {
      "cell_type": "code",
      "execution_count": null,
      "metadata": {
        "colab": {
          "base_uri": "https://localhost:8080/"
        },
        "id": "7BvPeNZ3f-Hz",
        "outputId": "28da20e7-2a09-472e-cf0c-ee528896f8c7"
      },
      "outputs": [
        {
          "output_type": "execute_result",
          "data": {
            "text/plain": [
              "('sai', 2, 4, 5, 9)"
            ]
          },
          "metadata": {},
          "execution_count": 5
        }
      ],
      "source": [
        "# Can also mix object types\n",
        "t=('sai',2,4,5,9)\n",
        "# Show\n",
        "t"
      ]
    },
    {
      "cell_type": "code",
      "execution_count": null,
      "metadata": {
        "colab": {
          "base_uri": "https://localhost:8080/"
        },
        "id": "GrmkBipvf-H1",
        "outputId": "2b4d0a41-3674-427c-94d4-61d97e8e7a36"
      },
      "outputs": [
        {
          "output_type": "execute_result",
          "data": {
            "text/plain": [
              "4"
            ]
          },
          "metadata": {},
          "execution_count": 6
        }
      ],
      "source": [
        "# Use indexing just like we did in lists\n",
        "t[2]"
      ]
    },
    {
      "cell_type": "code",
      "execution_count": null,
      "metadata": {
        "colab": {
          "base_uri": "https://localhost:8080/"
        },
        "id": "8ULZFlaGf-H2",
        "outputId": "9ac15a0c-8d5c-4848-bf8a-fe234649ad3f"
      },
      "outputs": [
        {
          "output_type": "execute_result",
          "data": {
            "text/plain": [
              "(2, 4)"
            ]
          },
          "metadata": {},
          "execution_count": 7
        }
      ],
      "source": [
        "# Slicing just like a list\n",
        "t[1:3]"
      ]
    },
    {
      "cell_type": "markdown",
      "metadata": {
        "id": "83r-3iWYf-H4"
      },
      "source": [
        "## Basic Tuple Methods\n",
        "\n",
        "Tuples have built-in methods, but not as many as lists do. Let's see two samples of tuple built-in methods:"
      ]
    },
    {
      "cell_type": "code",
      "execution_count": null,
      "metadata": {
        "colab": {
          "base_uri": "https://localhost:8080/"
        },
        "id": "1TjavGtKf-H6",
        "outputId": "a01af34b-0b08-4327-a7a2-ef74a55f3709"
      },
      "outputs": [
        {
          "output_type": "execute_result",
          "data": {
            "text/plain": [
              "0"
            ]
          },
          "metadata": {},
          "execution_count": 8
        }
      ],
      "source": [
        "# Use .index to enter a value and return the index\n",
        "t.index('sai')"
      ]
    },
    {
      "cell_type": "code",
      "execution_count": null,
      "metadata": {
        "colab": {
          "base_uri": "https://localhost:8080/"
        },
        "id": "hsub1f9Vf-H8",
        "outputId": "461fcc4e-1d0d-4572-90ca-9ea18c085bbb"
      },
      "outputs": [
        {
          "output_type": "execute_result",
          "data": {
            "text/plain": [
              "1"
            ]
          },
          "metadata": {},
          "execution_count": 9
        }
      ],
      "source": [
        "# Use .count to count the number of times a value appears\n",
        "t.count(2)"
      ]
    },
    {
      "cell_type": "markdown",
      "metadata": {
        "id": "TA9GQp4kf-H9"
      },
      "source": [
        "## Immutability\n",
        "\n",
        "As tuples are immutable, it can't be stressed enough and add more into it. To drive that point home:"
      ]
    },
    {
      "cell_type": "code",
      "execution_count": null,
      "metadata": {
        "colab": {
          "base_uri": "https://localhost:8080/",
          "height": 165
        },
        "id": "DSU3p3Urf-H_",
        "outputId": "7a6e3590-5f8c-4c66-cf92-083329355109"
      },
      "outputs": [
        {
          "output_type": "error",
          "ename": "TypeError",
          "evalue": "ignored",
          "traceback": [
            "\u001b[0;31m---------------------------------------------------------------------------\u001b[0m",
            "\u001b[0;31mTypeError\u001b[0m                                 Traceback (most recent call last)",
            "\u001b[0;32m<ipython-input-10-855993ecab04>\u001b[0m in \u001b[0;36m<module>\u001b[0;34m()\u001b[0m\n\u001b[0;32m----> 1\u001b[0;31m \u001b[0mt\u001b[0m\u001b[0;34m[\u001b[0m\u001b[0;36m0\u001b[0m\u001b[0;34m]\u001b[0m\u001b[0;34m=\u001b[0m\u001b[0;34m'sa'\u001b[0m\u001b[0;34m\u001b[0m\u001b[0;34m\u001b[0m\u001b[0m\n\u001b[0m",
            "\u001b[0;31mTypeError\u001b[0m: 'tuple' object does not support item assignment"
          ]
        }
      ],
      "source": [
        "t[0]='sa'"
      ]
    },
    {
      "cell_type": "markdown",
      "metadata": {
        "id": "vxOwlFtFf-H_"
      },
      "source": [
        "Because tuple being immutable they can't grow. Once a tuple is made we can not add to it."
      ]
    },
    {
      "cell_type": "code",
      "execution_count": null,
      "metadata": {
        "colab": {
          "base_uri": "https://localhost:8080/",
          "height": 165
        },
        "id": "LwGlETlCf-IA",
        "outputId": "6ed96913-734b-4ee2-bbe9-8df02e2e2964"
      },
      "outputs": [
        {
          "output_type": "error",
          "ename": "AttributeError",
          "evalue": "ignored",
          "traceback": [
            "\u001b[0;31m---------------------------------------------------------------------------\u001b[0m",
            "\u001b[0;31mAttributeError\u001b[0m                            Traceback (most recent call last)",
            "\u001b[0;32m<ipython-input-11-1b0e46fb135d>\u001b[0m in \u001b[0;36m<module>\u001b[0;34m()\u001b[0m\n\u001b[0;32m----> 1\u001b[0;31m \u001b[0mt\u001b[0m\u001b[0;34m.\u001b[0m\u001b[0mappend\u001b[0m\u001b[0;34m(\u001b[0m\u001b[0;34m\"sa\"\u001b[0m\u001b[0;34m)\u001b[0m\u001b[0;34m\u001b[0m\u001b[0;34m\u001b[0m\u001b[0m\n\u001b[0m",
            "\u001b[0;31mAttributeError\u001b[0m: 'tuple' object has no attribute 'append'"
          ]
        }
      ],
      "source": [
        "t.append(\"sa\")"
      ]
    },
    {
      "cell_type": "markdown",
      "metadata": {
        "id": "g2Xbp5KNf-IB"
      },
      "source": [
        "## When to use Tuples\n",
        "\n",
        "You may be wondering, \"Why to bother using tuples when they have a few available methods?\" \n",
        "\n",
        "Tuples are not used often as lists in programming but are used when immutability is necessary. While you are passing around an object and if you need to make sure that it does not get changed then tuple become your solution. It provides a convenient source of data integrity.\n",
        "\n",
        "You should now be able to create and use tuples in your programming as well as have a complete understanding of their immutability."
      ]
    },
    {
      "cell_type": "markdown",
      "metadata": {
        "id": "_LS3f5JXf-IB"
      },
      "source": [
        "# Sets\n",
        "\n",
        "Sets are an unordered collection of *unique* elements which can be constructed using the set() function. \n",
        "\n",
        "Let's go ahead and create a set to see how it works."
      ]
    },
    {
      "cell_type": "code",
      "execution_count": null,
      "metadata": {
        "id": "9ZrgNIfPf-IC"
      },
      "outputs": [],
      "source": [
        "s=set()"
      ]
    },
    {
      "cell_type": "code",
      "execution_count": null,
      "metadata": {
        "id": "pQXt287Yf-ID"
      },
      "outputs": [],
      "source": [
        "# We add to sets with the add() method\n",
        "s.add(3)"
      ]
    },
    {
      "cell_type": "code",
      "execution_count": null,
      "metadata": {
        "colab": {
          "base_uri": "https://localhost:8080/"
        },
        "id": "8Hnqtee9f-IE",
        "outputId": "a48e1b9d-772a-4260-a3a4-f5104e89b3a5"
      },
      "outputs": [
        {
          "output_type": "execute_result",
          "data": {
            "text/plain": [
              "{3}"
            ]
          },
          "metadata": {},
          "execution_count": 17
        }
      ],
      "source": [
        "#Show\n",
        "s"
      ]
    },
    {
      "cell_type": "markdown",
      "metadata": {
        "id": "lsa3ySkbf-IF"
      },
      "source": [
        "Note that the curly brackets do not indicate a dictionary! Using only keys, you can draw analogies as a set being a dictionary.\n",
        "\n",
        "We know that a set has an only unique entry. Now, let us see what happens when we try to add something more that is already present in a set?"
      ]
    },
    {
      "cell_type": "code",
      "execution_count": null,
      "metadata": {
        "id": "l4cOQfttf-IH"
      },
      "outputs": [],
      "source": [
        "# Add a different element\n",
        "s.add(4)"
      ]
    },
    {
      "cell_type": "code",
      "execution_count": null,
      "metadata": {
        "colab": {
          "base_uri": "https://localhost:8080/"
        },
        "id": "rQzEvAS-f-IH",
        "outputId": "c25bfa05-cfba-4b70-ad3f-490b167a185d"
      },
      "outputs": [
        {
          "output_type": "execute_result",
          "data": {
            "text/plain": [
              "{3, 4}"
            ]
          },
          "metadata": {},
          "execution_count": 21
        }
      ],
      "source": [
        "#Show\n",
        "s"
      ]
    },
    {
      "cell_type": "code",
      "execution_count": null,
      "metadata": {
        "id": "2EQp6TTUf-II"
      },
      "outputs": [],
      "source": [
        "# Try to add the same element\n",
        "s.add(4)"
      ]
    },
    {
      "cell_type": "code",
      "execution_count": null,
      "metadata": {
        "colab": {
          "base_uri": "https://localhost:8080/"
        },
        "id": "y1P5-j66f-IJ",
        "outputId": "f120f984-e4e5-4088-c258-4ac924ec057e"
      },
      "outputs": [
        {
          "output_type": "execute_result",
          "data": {
            "text/plain": [
              "{3, 4}"
            ]
          },
          "metadata": {},
          "execution_count": 23
        }
      ],
      "source": [
        "#Show\n",
        "s"
      ]
    },
    {
      "cell_type": "markdown",
      "metadata": {
        "id": "NDkJfI9uf-IK"
      },
      "source": [
        "Notice, how it won't place another 1 there as a set is only concerned with unique elements! However, We can cast a list with multiple repeat elements to a set to get the unique elements. For example:"
      ]
    },
    {
      "cell_type": "code",
      "execution_count": null,
      "metadata": {
        "id": "AjyQdwWLf-IK"
      },
      "outputs": [],
      "source": [
        "# Create a list with repeats\n",
        "l=[1,5,4,1,7,6,9,2]"
      ]
    },
    {
      "cell_type": "code",
      "execution_count": null,
      "metadata": {
        "colab": {
          "base_uri": "https://localhost:8080/"
        },
        "id": "h11m2HcUf-IL",
        "outputId": "b5dfa8af-a6eb-4f23-8009-eb8b5c051c91"
      },
      "outputs": [
        {
          "output_type": "execute_result",
          "data": {
            "text/plain": [
              "{1, 2, 4, 5, 6, 7, 9}"
            ]
          },
          "metadata": {},
          "execution_count": 27
        }
      ],
      "source": [
        "# Cast as set to get unique values\n",
        "s=set(l)\n",
        "s"
      ]
    },
    {
      "cell_type": "markdown",
      "metadata": {
        "id": "LZ0v7v_Gf-IM"
      },
      "source": [
        "# Dictionaries\n",
        "\n",
        "We have learned about \"Sequences\" in the previous session. Now, let's switch the gears and learn about \"mappings\" in Python. These dictionaries are nothing but hash tables in other programming languages.\n",
        "\n",
        "In this section, we will learn briefly about an introduction to dictionaries and what it consists of:\n",
        "\n",
        "    1.) Constructing a Dictionary\n",
        "    2.) Accessing objects from a Dictionary\n",
        "    3.) Nesting Dictionaries\n",
        "    4.) Basic Dictionary Methods\n",
        "\n",
        "Before we dive deep into this concept, let's understand what are Mappings? \n",
        "\n",
        "Mappings are a collection of objects that are stored by a \"key\". Unlike a sequence, mapping store objects by their relative position. This is an important distinction since mappings won't retain the order since they have objects defined by a key.\n",
        "\n",
        "A Python dictionary consists of a key and then an associated value. That value can be almost any Python object.\n",
        "\n",
        "\n",
        "## Constructing a Dictionary\n",
        "Let's see how we can construct dictionaries to get a better understanding of how they work!"
      ]
    },
    {
      "cell_type": "code",
      "execution_count": null,
      "metadata": {
        "id": "cq8Fb4phf-IN"
      },
      "outputs": [],
      "source": [
        "# Make a dictionary with {} and : to signify a key and a value\n",
        "d={'key1':'val1','key2':'val2','key3':'val3'}"
      ]
    },
    {
      "cell_type": "code",
      "execution_count": null,
      "metadata": {
        "colab": {
          "base_uri": "https://localhost:8080/",
          "height": 35
        },
        "id": "JkLJCvbwf-IN",
        "outputId": "cf88d262-cbcf-48ca-f743-5ac91be7e6a5"
      },
      "outputs": [
        {
          "output_type": "execute_result",
          "data": {
            "text/plain": [
              "'val3'"
            ],
            "application/vnd.google.colaboratory.intrinsic+json": {
              "type": "string"
            }
          },
          "metadata": {},
          "execution_count": 33
        }
      ],
      "source": [
        "# Call values by their key\n",
        "d['key3']"
      ]
    },
    {
      "cell_type": "markdown",
      "metadata": {
        "id": "RRZYo3I8f-IN"
      },
      "source": [
        "Note that dictionaries are very flexible in the data types they can hold. For example:"
      ]
    },
    {
      "cell_type": "code",
      "execution_count": null,
      "metadata": {
        "id": "DeKOyBarf-IO"
      },
      "outputs": [],
      "source": [
        "d={'key1':1,'key2':2,'key3':3,'key4':4,'key5':['sai','nath','naidu']}"
      ]
    },
    {
      "cell_type": "code",
      "execution_count": null,
      "metadata": {
        "colab": {
          "base_uri": "https://localhost:8080/"
        },
        "id": "fuz8awDKf-IO",
        "outputId": "bd4b2600-15c4-4ce7-d902-72a9424443cf"
      },
      "outputs": [
        {
          "output_type": "execute_result",
          "data": {
            "text/plain": [
              "4"
            ]
          },
          "metadata": {},
          "execution_count": 41
        }
      ],
      "source": [
        "#Let's call items from the dictionary\n",
        "d['key4']"
      ]
    },
    {
      "cell_type": "code",
      "execution_count": null,
      "metadata": {
        "colab": {
          "base_uri": "https://localhost:8080/",
          "height": 35
        },
        "id": "UMZAbMRmf-IO",
        "outputId": "dd75af98-3c4c-4adc-c457-20964233e67b"
      },
      "outputs": [
        {
          "output_type": "execute_result",
          "data": {
            "text/plain": [
              "'nath'"
            ],
            "application/vnd.google.colaboratory.intrinsic+json": {
              "type": "string"
            }
          },
          "metadata": {},
          "execution_count": 42
        }
      ],
      "source": [
        "# Can call an index on that value\n",
        "d['key5'][1]"
      ]
    },
    {
      "cell_type": "code",
      "execution_count": null,
      "metadata": {
        "colab": {
          "base_uri": "https://localhost:8080/",
          "height": 35
        },
        "id": "CJvZFKYrf-IP",
        "outputId": "cf3c1bba-e424-4dbd-e5d7-284ecf05ee83"
      },
      "outputs": [
        {
          "output_type": "execute_result",
          "data": {
            "text/plain": [
              "'SAI'"
            ],
            "application/vnd.google.colaboratory.intrinsic+json": {
              "type": "string"
            }
          },
          "metadata": {},
          "execution_count": 43
        }
      ],
      "source": [
        "#Can then even call methods on that value\n",
        "d['key5'][0].upper()"
      ]
    },
    {
      "cell_type": "markdown",
      "metadata": {
        "id": "hiDLnB5rf-IP"
      },
      "source": [
        "We can effect the values of a key as well. For instance:"
      ]
    },
    {
      "cell_type": "code",
      "execution_count": null,
      "metadata": {
        "colab": {
          "base_uri": "https://localhost:8080/"
        },
        "id": "tQxCtD5Lf-IQ",
        "outputId": "fa7046c3-6a48-41f6-fe81-90bf94f9f99d"
      },
      "outputs": [
        {
          "output_type": "execute_result",
          "data": {
            "text/plain": [
              "1"
            ]
          },
          "metadata": {},
          "execution_count": 44
        }
      ],
      "source": [
        "d['key1']"
      ]
    },
    {
      "cell_type": "code",
      "execution_count": null,
      "metadata": {
        "id": "F_LTk-mIf-IQ"
      },
      "outputs": [],
      "source": [
        "# Subtract 123 from the value\n",
        "d['key1']=d['key1']-1"
      ]
    },
    {
      "cell_type": "code",
      "execution_count": null,
      "metadata": {
        "colab": {
          "base_uri": "https://localhost:8080/"
        },
        "id": "JXoUssl-f-IR",
        "outputId": "5b6ba905-a2cc-45a0-f67a-cef50d50da09"
      },
      "outputs": [
        {
          "output_type": "execute_result",
          "data": {
            "text/plain": [
              "{'key1': 0, 'key2': 2, 'key3': 3, 'key4': 4, 'key5': ['sai', 'nath', 'naidu']}"
            ]
          },
          "metadata": {},
          "execution_count": 49
        }
      ],
      "source": [
        "#Check\n",
        "d"
      ]
    },
    {
      "cell_type": "markdown",
      "metadata": {
        "id": "X6Rozk5yf-IR"
      },
      "source": [
        "\\Note, Python has a built-in method of doing a self subtraction or addition (or multiplication or division). We could also use += or -= for the above statement. For example:"
      ]
    },
    {
      "cell_type": "code",
      "execution_count": null,
      "metadata": {
        "colab": {
          "base_uri": "https://localhost:8080/"
        },
        "id": "ATWfoVL8f-IS",
        "outputId": "31467887-f429-43e6-d3d5-517ff3d23b69"
      },
      "outputs": [
        {
          "output_type": "execute_result",
          "data": {
            "text/plain": [
              "-123"
            ]
          },
          "metadata": {},
          "execution_count": 50
        }
      ],
      "source": [
        "# Set the object equal to itself minus 123 \n",
        "d['key1']-=123\n",
        "d['key1']"
      ]
    },
    {
      "cell_type": "markdown",
      "metadata": {
        "id": "Etdubkw9f-IS"
      },
      "source": [
        "We can also create keys by assignment. For instance if we started off with an empty dictionary, we could continually add to it:"
      ]
    },
    {
      "cell_type": "code",
      "execution_count": null,
      "metadata": {
        "id": "a9PAPQm2f-IS"
      },
      "outputs": [],
      "source": [
        "# Create a new dictionary\n",
        "d={}"
      ]
    },
    {
      "cell_type": "code",
      "execution_count": null,
      "metadata": {
        "id": "DpADV9PSf-IT"
      },
      "outputs": [],
      "source": [
        "# Create a new key through assignment\n",
        "d['animal']='dog'"
      ]
    },
    {
      "cell_type": "code",
      "execution_count": null,
      "metadata": {
        "id": "NrCPo_vuf-IT"
      },
      "outputs": [],
      "source": [
        "# Can do this with any object\n",
        "d['number']=1"
      ]
    },
    {
      "cell_type": "code",
      "execution_count": null,
      "metadata": {
        "colab": {
          "base_uri": "https://localhost:8080/"
        },
        "id": "QGKw7ckYf-IU",
        "outputId": "40890008-608a-4d00-9a5a-1e50a5e4e93a"
      },
      "outputs": [
        {
          "output_type": "execute_result",
          "data": {
            "text/plain": [
              "{'animal': 'dog', 'number': 1}"
            ]
          },
          "metadata": {},
          "execution_count": 57
        }
      ],
      "source": [
        "#Show\n",
        "d"
      ]
    },
    {
      "cell_type": "markdown",
      "metadata": {
        "id": "ygGzByujf-IU"
      },
      "source": [
        "## Nesting with Dictionaries\n",
        "\n",
        "Let's understand how flexible Python is with nesting objects and calling methods on them. let's have a look at the dictionary nested inside a dictionary:"
      ]
    },
    {
      "cell_type": "code",
      "execution_count": null,
      "metadata": {
        "id": "v7CNtpkcf-IV"
      },
      "outputs": [],
      "source": [
        "# Dictionary nested inside a dictionary nested in side a dictionary\n",
        "d={'key1':{'nest key':{'subnestkey':'value'}}}"
      ]
    },
    {
      "cell_type": "markdown",
      "metadata": {
        "id": "Lwr_ggObf-IV"
      },
      "source": [
        "Thats the inception of dictionaries. Now, Let's see how we can grab that value:"
      ]
    },
    {
      "cell_type": "code",
      "execution_count": null,
      "metadata": {
        "colab": {
          "base_uri": "https://localhost:8080/",
          "height": 35
        },
        "id": "D71wSeDuf-IV",
        "outputId": "af9be59d-91ad-488b-eafb-b4600695167b"
      },
      "outputs": [
        {
          "output_type": "execute_result",
          "data": {
            "text/plain": [
              "'value'"
            ],
            "application/vnd.google.colaboratory.intrinsic+json": {
              "type": "string"
            }
          },
          "metadata": {},
          "execution_count": 59
        }
      ],
      "source": [
        "# Keep calling the keys\n",
        "d['key1']['nest key']['subnestkey']"
      ]
    },
    {
      "cell_type": "markdown",
      "metadata": {
        "id": "MV_erVJef-IW"
      },
      "source": [
        "## A few Dictionary Methods\n",
        "\n",
        "There are a few methods we can call on a dictionary. Let's get a quick introduction to a few methods:"
      ]
    },
    {
      "cell_type": "code",
      "execution_count": null,
      "metadata": {
        "id": "VkvQ52grf-IW"
      },
      "outputs": [],
      "source": [
        "# Create a typical dictionary\n",
        "d={'key1':1,'key2':2,'key3':3}"
      ]
    },
    {
      "cell_type": "code",
      "execution_count": null,
      "metadata": {
        "colab": {
          "base_uri": "https://localhost:8080/"
        },
        "id": "2wwMdWNmf-IW",
        "outputId": "4c24b3b7-fd7d-4825-a48c-d74951725ac3"
      },
      "outputs": [
        {
          "output_type": "execute_result",
          "data": {
            "text/plain": [
              "dict_keys(['key1', 'key2', 'key3'])"
            ]
          },
          "metadata": {},
          "execution_count": 61
        }
      ],
      "source": [
        "# Method to return a list of all keys \n",
        "d.keys()"
      ]
    },
    {
      "cell_type": "code",
      "execution_count": null,
      "metadata": {
        "colab": {
          "base_uri": "https://localhost:8080/"
        },
        "id": "hp7RTw1Nf-IW",
        "outputId": "90595f41-3e8c-40bd-910e-e34d95577e54"
      },
      "outputs": [
        {
          "output_type": "execute_result",
          "data": {
            "text/plain": [
              "dict_values([1, 2, 3])"
            ]
          },
          "metadata": {},
          "execution_count": 62
        }
      ],
      "source": [
        "# Method to grab all values\n",
        "d.values()"
      ]
    },
    {
      "cell_type": "code",
      "execution_count": null,
      "metadata": {
        "colab": {
          "base_uri": "https://localhost:8080/"
        },
        "id": "NN0qd-sHf-IX",
        "outputId": "f4324e43-1922-4a2a-a890-5673478cdddb"
      },
      "outputs": [
        {
          "output_type": "execute_result",
          "data": {
            "text/plain": [
              "dict_items([('key1', 1), ('key2', 2), ('key3', 3)])"
            ]
          },
          "metadata": {},
          "execution_count": 65
        }
      ],
      "source": [
        "# Method to return tuples of all items  (we'll learn about tuples soon)\n",
        "d.items()"
      ]
    },
    {
      "cell_type": "markdown",
      "metadata": {
        "id": "_NXHao6rf-IX"
      },
      "source": [
        "## Dictionary Comprehensions\n",
        "\n",
        "Just like List Comprehensions, Dictionary Data Types also support their own version of comprehension for quick creation. It is not as commonly used as List Comprehensions, but the syntax is:"
      ]
    },
    {
      "cell_type": "code",
      "execution_count": null,
      "metadata": {
        "colab": {
          "base_uri": "https://localhost:8080/"
        },
        "id": "EEGZ20OYf-IX",
        "outputId": "4baf91cc-ec40-46a3-8f15-b1a795585368"
      },
      "outputs": [
        {
          "output_type": "execute_result",
          "data": {
            "text/plain": [
              "{0: 0, 1: 1, 2: 4, 3: 9, 4: 16, 5: 25, 6: 36}"
            ]
          },
          "metadata": {},
          "execution_count": 66
        }
      ],
      "source": [
        "{x:x**2 for x in range(7)}"
      ]
    },
    {
      "cell_type": "code",
      "execution_count": null,
      "metadata": {
        "colab": {
          "base_uri": "https://localhost:8080/"
        },
        "id": "NqCJD3zBf-IX",
        "outputId": "e6451021-47ec-46b9-cc93-748572f61933"
      },
      "outputs": [
        {
          "output_type": "execute_result",
          "data": {
            "text/plain": [
              "{4: 3, 6: 5, 8: 7, 10: 9}"
            ]
          },
          "metadata": {},
          "execution_count": 68
        }
      ],
      "source": [
        "{x:x-1 for x in range(4,12,2)}"
      ]
    },
    {
      "cell_type": "markdown",
      "metadata": {
        "id": "YJW9aw0gf-IX"
      },
      "source": [
        "One of the reasons is the difficulty in structuring the key names that are not based on the values."
      ]
    },
    {
      "cell_type": "markdown",
      "metadata": {
        "id": "FGnbpVnif-IY"
      },
      "source": [
        "# Functions\n",
        "\n",
        "## Introduction to Functions\n",
        "\n",
        "What is a function in Python and how to create a function? \n",
        "\n",
        "Functions will be one of our main building blocks when we construct larger and larger amount of code to solve problems.\n",
        "\n",
        "**So what is a function?**\n",
        "\n",
        "A function groups a set of statements together to run the statements more than once. It allows us to specify parameters that can serve as inputs to the functions.\n",
        "\n",
        "Functions allow us to reuse the code instead of writing the code again and again. If you recall strings and lists, remember that len() function is used to find the length of a string. Since checking the length of a sequence is a common task, you would want to write a function that can do this repeatedly at command.\n",
        "\n",
        "Function is one of the most basic levels of reusing code in Python, and it will also allow us to start thinking of program design."
      ]
    },
    {
      "cell_type": "markdown",
      "metadata": {
        "id": "Af2B0yt5f-IY"
      },
      "source": [
        "## def Statements\n",
        "\n",
        "Now, let us learn how to build a function and what is the syntax in Python.\n",
        "\n",
        "The syntax for def statements will be in the following form:"
      ]
    },
    {
      "cell_type": "code",
      "execution_count": null,
      "metadata": {
        "colab": {
          "base_uri": "https://localhost:8080/"
        },
        "id": "EgQJtqSjf-IY",
        "outputId": "e6deb649-d391-4bd2-efed-b0a3ae2af8a2"
      },
      "outputs": [
        {
          "output_type": "stream",
          "name": "stdout",
          "text": [
            "10\n"
          ]
        }
      ],
      "source": [
        "def sai(a,b):\n",
        "    s=a+b\n",
        "    return s\n",
        "    # Do stuff here\n",
        "a=4\n",
        "b=6\n",
        "print(sai(a,b))\n",
        "    #return desired result"
      ]
    },
    {
      "cell_type": "markdown",
      "metadata": {
        "id": "4xOD-fpef-IY"
      },
      "source": [
        "We begin with def then a space followed by the name of the function. Try to keep names relevant and simple as possible, for example, len() is a good name for a length() function. Also be careful with names, you wouldn't want to call a function the same name as a [built-in function in Python](https://docs.python.org/2/library/functions.html) (such as len).\n",
        "\n",
        "Next, comes the number of arguments separated by a comma within a pair of parenthesis which acts as input to the defined function,  reference them and the function definition with a colon.  \n",
        "\n",
        "Here comes the important step to indent to begin the code inside the defined functions properly. Also remember, Python makes use of *whitespace* to organize code and lot of other programming languages do not do this.\n",
        "\n",
        "Next, you'll see the doc-string where you write the basic description of the function. Using iPython and iPython Notebooks, you'll be able to read these doc-strings by pressing Shift+Tab after a function name. It is not mandatory to include docstrings with simple functions, but it is a good practice to put them as this will help the programmers to easily understand the code you write.\n",
        "\n",
        "After all this, you can begin writing the code you wish to execute.\n",
        "\n",
        "The best way to learn functions is by going through examples. So let's try to analyze and understand examples that relate back to the various objects and data structures we learned."
      ]
    },
    {
      "cell_type": "markdown",
      "metadata": {
        "id": "amuJXMCtf-IZ"
      },
      "source": [
        "### Example 1: A simple print 'hello' function"
      ]
    },
    {
      "cell_type": "code",
      "execution_count": null,
      "metadata": {
        "id": "qdsNepBrf-IZ"
      },
      "outputs": [],
      "source": [
        "def helloworld():\n",
        "    print(\"hello world\")"
      ]
    },
    {
      "cell_type": "markdown",
      "metadata": {
        "id": "eZxbhYPof-IZ"
      },
      "source": [
        "Call the function"
      ]
    },
    {
      "cell_type": "code",
      "execution_count": null,
      "metadata": {
        "colab": {
          "base_uri": "https://localhost:8080/"
        },
        "id": "lbs4xV58f-IZ",
        "outputId": "276381d7-4212-4d5a-b527-55a625ff038f"
      },
      "outputs": [
        {
          "output_type": "stream",
          "name": "stdout",
          "text": [
            "hello world\n"
          ]
        }
      ],
      "source": [
        "helloworld()"
      ]
    },
    {
      "cell_type": "markdown",
      "metadata": {
        "id": "Dds_ZbxOf-Ia"
      },
      "source": [
        "### Example 2: A simple greeting function\n",
        "Let's write a function that greets people with their name."
      ]
    },
    {
      "cell_type": "code",
      "execution_count": null,
      "metadata": {
        "id": "_i1XnBr9f-Ia"
      },
      "outputs": [],
      "source": [
        "def greet(s):\n",
        "    print(\"hello \",s)"
      ]
    },
    {
      "cell_type": "code",
      "execution_count": null,
      "metadata": {
        "colab": {
          "base_uri": "https://localhost:8080/"
        },
        "id": "4CHCSdIVf-Ia",
        "outputId": "30ae6d7c-2f4b-4d64-8df0-0a9791218075"
      },
      "outputs": [
        {
          "output_type": "stream",
          "name": "stdout",
          "text": [
            "sainath\n",
            "hello  sainath\n"
          ]
        }
      ],
      "source": [
        "s=input()\n",
        "greet(s)"
      ]
    },
    {
      "cell_type": "markdown",
      "metadata": {
        "id": "j3hA3rplf-Ia"
      },
      "source": [
        "## Using return\n",
        "Let's see some examples that use a return statement. Return allows a function to \"return\" a result that can then be stored as a variable, or used in whatever manner a user wants.\n",
        "\n",
        "### Example 3: Addition function"
      ]
    },
    {
      "cell_type": "code",
      "execution_count": null,
      "metadata": {
        "id": "WYkrwlALf-Ia"
      },
      "outputs": [],
      "source": [
        "def sum(n,m):\n",
        "    s=n+m\n",
        "    return s"
      ]
    },
    {
      "cell_type": "code",
      "execution_count": null,
      "metadata": {
        "colab": {
          "base_uri": "https://localhost:8080/"
        },
        "id": "8ydce9z8f-Ia",
        "outputId": "47b56560-c759-47c3-cb04-aff3e981d3f5"
      },
      "outputs": [
        {
          "output_type": "stream",
          "name": "stdout",
          "text": [
            "9\n"
          ]
        }
      ],
      "source": [
        "n=4\n",
        "m=5\n",
        "print(sum(n,m))"
      ]
    },
    {
      "cell_type": "code",
      "execution_count": null,
      "metadata": {
        "id": "k-rsGOiff-Ib"
      },
      "outputs": [],
      "source": [
        "# Can also save as variable due to return\n",
        "res=sum(7,9)"
      ]
    },
    {
      "cell_type": "code",
      "execution_count": null,
      "metadata": {
        "colab": {
          "base_uri": "https://localhost:8080/"
        },
        "id": "CegFuxq0f-Ib",
        "outputId": "31a522ae-844b-4db9-dec6-98a0d16db8bf"
      },
      "outputs": [
        {
          "output_type": "execute_result",
          "data": {
            "text/plain": [
              "16"
            ]
          },
          "metadata": {},
          "execution_count": 79
        }
      ],
      "source": [
        "res"
      ]
    },
    {
      "cell_type": "markdown",
      "metadata": {
        "id": "hncJTerPf-Ib"
      },
      "source": [
        "What happens if we input two strings?"
      ]
    },
    {
      "cell_type": "code",
      "execution_count": null,
      "metadata": {
        "colab": {
          "base_uri": "https://localhost:8080/"
        },
        "id": "lgUUCjuYf-Ib",
        "outputId": "537a530b-2523-499e-b5f8-0faedff010b9"
      },
      "outputs": [
        {
          "output_type": "stream",
          "name": "stdout",
          "text": [
            "sai\tnath\n"
          ]
        }
      ],
      "source": [
        "print(sum('sai\\t','nath'))"
      ]
    },
    {
      "cell_type": "markdown",
      "metadata": {
        "id": "74VAQPw1f-Ib"
      },
      "source": [
        "In Python we don't declare variable types, this function could be used to add numbers or sequences together! Going forward, We'll learn about adding in checks to make sure a user puts in the correct arguments into a function.\n",
        "\n",
        "Let's also start using *break*,*continue*, and *pass* statements in our code. We introduced these during the while lecture."
      ]
    },
    {
      "cell_type": "markdown",
      "metadata": {
        "collapsed": true,
        "id": "__thm6wFf-Ic"
      },
      "source": [
        "Now, let's see a complete example of creating a function to check if a number is prime (a common interview exercise).\n",
        "\n",
        "We know a number is said to be prime if that number is only divisible by 1 and itself. Let's write our first version of the function to check all the numbers from 1 to N and perform modulo checks."
      ]
    },
    {
      "cell_type": "code",
      "execution_count": null,
      "metadata": {
        "id": "8dWp90_ff-Ic"
      },
      "outputs": [],
      "source": [
        "def is_prime(n):\n",
        "    for i in range(2,n):\n",
        "        if n%i==0:\n",
        "            print(\"not prime\")\n",
        "            break\n",
        "    else:\n",
        "        print(\"prime\")\n",
        "    # If never mod zero, then prime\n",
        "    "
      ]
    },
    {
      "cell_type": "code",
      "execution_count": null,
      "metadata": {
        "colab": {
          "base_uri": "https://localhost:8080/"
        },
        "id": "NN2jqYkJf-Ic",
        "outputId": "4c414988-7303-4f57-ff9d-bd1ad11ed9bf"
      },
      "outputs": [
        {
          "output_type": "stream",
          "name": "stdout",
          "text": [
            "not prime\n"
          ]
        }
      ],
      "source": [
        "is_prime(12)"
      ]
    },
    {
      "cell_type": "markdown",
      "metadata": {
        "id": "19RDWzBzf-Ic"
      },
      "source": [
        "Note that how we break the code after the print statement! We can actually improve this by only checking to the square root of the target number, also we can disregard all even numbers after checking for 2. We'll also switch to returning a boolean value to get an example of using return statements:"
      ]
    },
    {
      "cell_type": "code",
      "execution_count": null,
      "metadata": {
        "id": "8jt8Gqswf-Ic"
      },
      "outputs": [],
      "source": [
        "import math\n",
        "\n",
        "def prime(n):\n",
        "    if n%2==0 and n>2:\n",
        "        return False\n",
        "    for i in range(3,int(math.sqrt(n))+1,2):\n",
        "        if num%i==0:\n",
        "            return False\n",
        "    return True"
      ]
    },
    {
      "cell_type": "code",
      "execution_count": null,
      "metadata": {
        "colab": {
          "base_uri": "https://localhost:8080/"
        },
        "id": "FSc2QotHf-Ic",
        "outputId": "7c41e36e-e918-4f16-e28e-139b02555f95"
      },
      "outputs": [
        {
          "output_type": "stream",
          "name": "stdout",
          "text": [
            "False\n"
          ]
        }
      ],
      "source": [
        "print(prime(4))"
      ]
    },
    {
      "cell_type": "code",
      "execution_count": null,
      "metadata": {
        "colab": {
          "base_uri": "https://localhost:8080/"
        },
        "id": "qU2JkWwaf-Ic",
        "outputId": "83b356d5-ad5f-4adc-c900-ae5c95da0519"
      },
      "outputs": [
        {
          "output_type": "stream",
          "name": "stdout",
          "text": [
            "True\n"
          ]
        }
      ],
      "source": [
        "print(prime(7))"
      ]
    },
    {
      "cell_type": "markdown",
      "metadata": {
        "id": "LclX6pK_f-Ic"
      },
      "source": [
        "# Iterators and Generators"
      ]
    },
    {
      "cell_type": "markdown",
      "metadata": {
        "id": "q_1ajx-Pf-Id"
      },
      "source": [
        "In this section, you will be learning the differences between iterations and generation in Python and also how to construct our own generators with the \"yield\" statement. Generators allow us to generate as we go along instead of storing everything in the memory.\n",
        "\n",
        "We have learned, how to create functions with \"def\" and the \"return\" statement. In Python, Generator function allow us to write a function that can send back a value and then later resume to pick up where it was left. It also allows us to generate a sequence of values over time. The main difference in syntax will be the use of a **yield** statement.\n",
        "\n",
        "In most aspects, a generator function will appear very similar to a normal function. The main difference is when a generator function is called and compiled they become an object that supports an iteration protocol. That means when they are called they don't actually return a value and then exit, the generator functions will automatically suspend and resume their execution and state around the last point of value generation. \n",
        "\n",
        "The main advantage here is \"state suspension\" which means, instead of computing an entire series of values upfront and the generator functions can be suspended. To understand this concept better let's go ahead and learn how to create some generator functions."
      ]
    },
    {
      "cell_type": "code",
      "execution_count": null,
      "metadata": {
        "id": "dI7YE58mf-Id"
      },
      "outputs": [],
      "source": [
        "# Generator function for the cube of numbers (power of 3)\n",
        "def gen(n):\n",
        "    for i in range(n):\n",
        "        yield i**3"
      ]
    },
    {
      "cell_type": "code",
      "execution_count": null,
      "metadata": {
        "scrolled": true,
        "colab": {
          "base_uri": "https://localhost:8080/"
        },
        "id": "X14qZdh2f-Id",
        "outputId": "c406c87c-d92b-474d-db95-5a3d709f36e9"
      },
      "outputs": [
        {
          "output_type": "stream",
          "name": "stdout",
          "text": [
            "0\n",
            "1\n",
            "8\n",
            "27\n",
            "64\n",
            "125\n",
            "216\n",
            "343\n",
            "512\n",
            "729\n"
          ]
        }
      ],
      "source": [
        "for x in gen(10):\n",
        "    print(x)"
      ]
    },
    {
      "cell_type": "markdown",
      "metadata": {
        "id": "exUrNwwPf-Id"
      },
      "source": [
        "Great! since we have a generator function we don't have to keep track of every single cube we created.\n",
        "\n",
        "Generators are the best for calculating large sets of results (particularly in calculations that involve loops themselves) when we don't want to allocate memory for all of the results at the same time. \n",
        "\n",
        "Let's create another sample generator which calculates [fibonacci](https://en.wikipedia.org/wiki/Fibonacci_number) numbers:"
      ]
    },
    {
      "cell_type": "code",
      "execution_count": null,
      "metadata": {
        "id": "5gOFkCKYf-Id"
      },
      "outputs": [],
      "source": [
        "def fib(n):\n",
        "    a=0\n",
        "    b=1\n",
        "    for i in range(n):\n",
        "        yield a\n",
        "        a,b=b,a+b"
      ]
    },
    {
      "cell_type": "code",
      "execution_count": null,
      "metadata": {
        "colab": {
          "base_uri": "https://localhost:8080/"
        },
        "id": "Z51zxGv2f-Id",
        "outputId": "ee059f97-308b-4c6d-db7e-6c05348311d6"
      },
      "outputs": [
        {
          "output_type": "stream",
          "name": "stdout",
          "text": [
            "0\n",
            "1\n",
            "1\n",
            "2\n",
            "3\n",
            "5\n",
            "8\n",
            "13\n",
            "21\n",
            "34\n"
          ]
        }
      ],
      "source": [
        "for i in fib(10):\n",
        "    print(i)"
      ]
    },
    {
      "cell_type": "markdown",
      "metadata": {
        "id": "CGRnYtMsf-Id"
      },
      "source": [
        "What if this was a normal function, what would it look like?"
      ]
    },
    {
      "cell_type": "code",
      "execution_count": null,
      "metadata": {
        "id": "kyfbeV_7f-Ie"
      },
      "outputs": [],
      "source": [
        "def fibn(n):\n",
        "    a=0\n",
        "    b=1\n",
        "    o=[]\n",
        "    for i in range(n):\n",
        "        o.append(a)\n",
        "        a,b=b,a+b\n",
        "    return(o)"
      ]
    },
    {
      "cell_type": "code",
      "execution_count": null,
      "metadata": {
        "colab": {
          "base_uri": "https://localhost:8080/"
        },
        "id": "96vhbv6Vf-Ie",
        "outputId": "3fab9194-3193-4846-e962-d90a1943eaff"
      },
      "outputs": [
        {
          "output_type": "stream",
          "name": "stdout",
          "text": [
            "[0, 1, 1, 2, 3, 5, 8, 13, 21, 34]\n"
          ]
        }
      ],
      "source": [
        "print(fibn(10))"
      ]
    },
    {
      "cell_type": "markdown",
      "metadata": {
        "id": "ViS2zCYlf-Ie"
      },
      "source": [
        "Note, if we call some huge value of \"n\", the second function will have to keep track of every single result. In our case, we only care about the previous result to generate the next one.\n",
        "\n",
        "\n",
        "## next() and iter() built-in functions\n",
        "\n",
        "A key to fully understand generators is the next() and the iter() function.\n",
        "\n",
        "The next function allows us to access the next element in a sequence. Let's check how it works."
      ]
    },
    {
      "cell_type": "code",
      "execution_count": null,
      "metadata": {
        "colab": {
          "base_uri": "https://localhost:8080/"
        },
        "id": "LBiK8N-xf-Ie",
        "outputId": "89184e49-4785-4221-d67b-a7b15e991509"
      },
      "outputs": [
        {
          "output_type": "stream",
          "name": "stdout",
          "text": [
            "[0, 1, 2, 3, 4, 5, 6, 7, 8, 9]\n"
          ]
        }
      ],
      "source": [
        "print(list(range(10)))"
      ]
    },
    {
      "cell_type": "code",
      "execution_count": null,
      "metadata": {
        "id": "bFp3gAlGf-Ie"
      },
      "outputs": [],
      "source": [
        "def sgen():\n",
        "    for x in range(3):\n",
        "        yield x"
      ]
    },
    {
      "cell_type": "code",
      "execution_count": null,
      "metadata": {
        "id": "XclvGz4bf-Ie"
      },
      "outputs": [],
      "source": [
        "# Assign simple_gen \n",
        "g=sgen()"
      ]
    },
    {
      "cell_type": "code",
      "execution_count": null,
      "metadata": {
        "colab": {
          "base_uri": "https://localhost:8080/"
        },
        "id": "uIZRUUCbf-Ie",
        "outputId": "5496a499-5d79-4e9b-88b5-f34b59716cbc"
      },
      "outputs": [
        {
          "output_type": "stream",
          "name": "stdout",
          "text": [
            "0\n"
          ]
        }
      ],
      "source": [
        "print(next(g))"
      ]
    },
    {
      "cell_type": "code",
      "execution_count": null,
      "metadata": {
        "colab": {
          "base_uri": "https://localhost:8080/"
        },
        "id": "L79MeU6Sf-Ie",
        "outputId": "5924312b-b646-4441-d0ba-8e1447d29026"
      },
      "outputs": [
        {
          "output_type": "stream",
          "name": "stdout",
          "text": [
            "1\n"
          ]
        }
      ],
      "source": [
        "print(next(g))"
      ]
    },
    {
      "cell_type": "code",
      "execution_count": null,
      "metadata": {
        "colab": {
          "base_uri": "https://localhost:8080/"
        },
        "id": "F_jgRLACf-Ie",
        "outputId": "fb56e2f0-5474-478a-b047-02424ba35b13"
      },
      "outputs": [
        {
          "output_type": "stream",
          "name": "stdout",
          "text": [
            "2\n"
          ]
        }
      ],
      "source": [
        "print(next(g))"
      ]
    },
    {
      "cell_type": "code",
      "execution_count": null,
      "metadata": {
        "colab": {
          "base_uri": "https://localhost:8080/",
          "height": 165
        },
        "id": "8rqTBIuOf-Ie",
        "outputId": "f0be4861-0168-4404-8e95-594f94e69cb8"
      },
      "outputs": [
        {
          "output_type": "error",
          "ename": "StopIteration",
          "evalue": "ignored",
          "traceback": [
            "\u001b[0;31m---------------------------------------------------------------------------\u001b[0m",
            "\u001b[0;31mStopIteration\u001b[0m                             Traceback (most recent call last)",
            "\u001b[0;32m<ipython-input-119-1dfb29d6357e>\u001b[0m in \u001b[0;36m<module>\u001b[0;34m()\u001b[0m\n\u001b[0;32m----> 1\u001b[0;31m \u001b[0mprint\u001b[0m\u001b[0;34m(\u001b[0m\u001b[0mnext\u001b[0m\u001b[0;34m(\u001b[0m\u001b[0mg\u001b[0m\u001b[0;34m)\u001b[0m\u001b[0;34m)\u001b[0m\u001b[0;34m\u001b[0m\u001b[0;34m\u001b[0m\u001b[0m\n\u001b[0m",
            "\u001b[0;31mStopIteration\u001b[0m: "
          ]
        }
      ],
      "source": [
        "print(next(g))"
      ]
    },
    {
      "cell_type": "markdown",
      "metadata": {
        "id": "_VR2RP86f-If"
      },
      "source": [
        "After yielding all the values next() caused a StopIteration error. What this error informs us that all the values have been yielded. \n",
        "\n",
        "You might be wondering that why don’t we get this error while using a for loop? The \"for loop\" automatically catches this error and stops calling next. \n",
        "\n",
        "Let's go ahead and check out how to use iter(). You remember that strings are iterable:"
      ]
    },
    {
      "cell_type": "code",
      "execution_count": null,
      "metadata": {
        "colab": {
          "base_uri": "https://localhost:8080/"
        },
        "id": "lcYLI1hpf-If",
        "outputId": "5fb43b5d-7929-4ef0-c661-016510d773a8"
      },
      "outputs": [
        {
          "output_type": "stream",
          "name": "stdout",
          "text": [
            "s\n",
            "a\n",
            "i\n",
            "n\n",
            "a\n",
            "t\n",
            "h\n"
          ]
        }
      ],
      "source": [
        "s=\"sainath\"\n",
        "#Iterate over string\n",
        "for i in s:\n",
        "    print(i)"
      ]
    },
    {
      "cell_type": "markdown",
      "metadata": {
        "id": "d7-sgK_zf-If"
      },
      "source": [
        "But that doesn't mean the string itself is an *iterator*! We can check this with the next() function:"
      ]
    },
    {
      "cell_type": "code",
      "execution_count": null,
      "metadata": {
        "colab": {
          "base_uri": "https://localhost:8080/",
          "height": 165
        },
        "id": "u1UFt3qHf-If",
        "outputId": "a7b956b2-85e4-4ce5-93fd-ece94250a62e"
      },
      "outputs": [
        {
          "output_type": "error",
          "ename": "TypeError",
          "evalue": "ignored",
          "traceback": [
            "\u001b[0;31m---------------------------------------------------------------------------\u001b[0m",
            "\u001b[0;31mTypeError\u001b[0m                                 Traceback (most recent call last)",
            "\u001b[0;32m<ipython-input-121-62c0403b76d4>\u001b[0m in \u001b[0;36m<module>\u001b[0;34m()\u001b[0m\n\u001b[0;32m----> 1\u001b[0;31m \u001b[0mprint\u001b[0m\u001b[0;34m(\u001b[0m\u001b[0mnext\u001b[0m\u001b[0;34m(\u001b[0m\u001b[0ms\u001b[0m\u001b[0;34m)\u001b[0m\u001b[0;34m)\u001b[0m\u001b[0;34m\u001b[0m\u001b[0;34m\u001b[0m\u001b[0m\n\u001b[0m",
            "\u001b[0;31mTypeError\u001b[0m: 'str' object is not an iterator"
          ]
        }
      ],
      "source": [
        "print(next(s))"
      ]
    },
    {
      "cell_type": "markdown",
      "metadata": {
        "id": "-4fVP3mrf-If"
      },
      "source": [
        "This means that a string object supports iteration, but we can not directly iterate over it as we could with a generator function. The iter() function allows us to do just that!"
      ]
    },
    {
      "cell_type": "code",
      "execution_count": null,
      "metadata": {
        "id": "h9BrRcO8f-If"
      },
      "outputs": [],
      "source": [
        "siter=iter(s)"
      ]
    },
    {
      "cell_type": "code",
      "execution_count": null,
      "metadata": {
        "colab": {
          "base_uri": "https://localhost:8080/"
        },
        "id": "rzuWOiG6f-Ig",
        "outputId": "a1dc2adb-a16b-4d6c-9a52-2498b20608a2"
      },
      "outputs": [
        {
          "output_type": "stream",
          "name": "stdout",
          "text": [
            "s\n"
          ]
        }
      ],
      "source": [
        "print(next(siter))"
      ]
    },
    {
      "cell_type": "code",
      "execution_count": null,
      "metadata": {
        "colab": {
          "base_uri": "https://localhost:8080/"
        },
        "id": "hPvqYdwtf-Ig",
        "outputId": "5e2fb074-6156-4a8d-bfba-964ec951e626"
      },
      "outputs": [
        {
          "output_type": "stream",
          "name": "stdout",
          "text": [
            "a\n"
          ]
        }
      ],
      "source": [
        "print(next(siter))"
      ]
    },
    {
      "cell_type": "markdown",
      "metadata": {
        "id": "p32Y6ncUf-Ig"
      },
      "source": [
        "# map()\n",
        "\n",
        "The map() is a function that takes in two arguments: \n",
        "1. A function \n",
        "2. A sequence iterable. \n",
        "\n",
        "In the form: map(function, sequence)\n",
        "    \n",
        "The first argument is the name of a function and the second a sequence (e.g. a list). map() applies the function to all the elements of the sequence. It returns a new list with the elements changed by the function.\n",
        "\n",
        "When we went over list comprehension we created a small expression to convert Fahrenheit to Celsius. Let's do the same here but use map. \n",
        "\n",
        "We'll start with two functions:"
      ]
    },
    {
      "cell_type": "code",
      "execution_count": null,
      "metadata": {
        "id": "H9P_kEiKf-Ig"
      },
      "outputs": [],
      "source": [
        "def fah(t):\n",
        "    return ((float(9)/5)*t+32)\n",
        "def cel(t):\n",
        "    return (float(5)/9)*(t-32)\n",
        "temp=[0,22.5,40,100]"
      ]
    },
    {
      "cell_type": "markdown",
      "metadata": {
        "id": "Yv0gjuHhf-Ig"
      },
      "source": [
        "Now let's see map() in action:"
      ]
    },
    {
      "cell_type": "code",
      "execution_count": null,
      "metadata": {
        "colab": {
          "base_uri": "https://localhost:8080/"
        },
        "id": "7MZt4bQBf-Ig",
        "outputId": "829d5b8f-3987-42f0-ac9f-f257170f4411"
      },
      "outputs": [
        {
          "output_type": "execute_result",
          "data": {
            "text/plain": [
              "[32.0, 72.5, 104.0, 212.0]"
            ]
          },
          "metadata": {},
          "execution_count": 128
        }
      ],
      "source": [
        "ftemp=list(map(fah,temp))\n",
        "#Show\n",
        "ftemp"
      ]
    },
    {
      "cell_type": "code",
      "execution_count": null,
      "metadata": {
        "colab": {
          "base_uri": "https://localhost:8080/"
        },
        "id": "kEMQEQz2f-Ig",
        "outputId": "b71749a1-7299-45d8-d24f-ae80ca166cba"
      },
      "outputs": [
        {
          "output_type": "execute_result",
          "data": {
            "text/plain": [
              "[0.0, 22.5, 40.0, 100.0]"
            ]
          },
          "metadata": {},
          "execution_count": 132
        }
      ],
      "source": [
        "# Convert back\n",
        "list(map(cel,ftemp))"
      ]
    },
    {
      "cell_type": "markdown",
      "metadata": {
        "id": "yKfYfDc6f-Ig"
      },
      "source": [
        "In the example above, we haven't used a lambda expression. By using lambda, it is not necessary to define and name fahrenheit() and celsius() functions."
      ]
    },
    {
      "cell_type": "code",
      "execution_count": null,
      "metadata": {
        "colab": {
          "base_uri": "https://localhost:8080/"
        },
        "id": "t34yrPWPf-Ig",
        "outputId": "a32e3d31-2b3a-4c9d-da79-afa871339e2f"
      },
      "outputs": [
        {
          "output_type": "execute_result",
          "data": {
            "text/plain": [
              "[0.0, 22.5, 40.0, 100.0]"
            ]
          },
          "metadata": {},
          "execution_count": 133
        }
      ],
      "source": [
        "list(map(lambda x:(5.0/9)*(x-32),ftemp))"
      ]
    },
    {
      "cell_type": "markdown",
      "metadata": {
        "id": "isKRKUXsf-Ih"
      },
      "source": [
        "Map is more commonly used with lambda expressions since the entire purpose of a map() is to save effort on creating manual for loops."
      ]
    },
    {
      "cell_type": "markdown",
      "metadata": {
        "id": "KlOVNq2Vf-Ih"
      },
      "source": [
        "map() can be applied to more than one iterable. The iterables must have the same length.\n",
        "\n",
        "For instance, if we are working with two lists-map() will apply its lambda function to the elements of the argument lists, i.e. it first applies to the elements with the 0th index, then to the elements with the 1st index until the nth index is reached.\n",
        "\n",
        "For example, let's map a lambda expression to two lists:"
      ]
    },
    {
      "cell_type": "code",
      "execution_count": 134,
      "metadata": {
        "id": "gJXUdlQRf-Ih",
        "colab": {
          "base_uri": "https://localhost:8080/"
        },
        "outputId": "e3fc5574-2361-4509-94b0-3d63d7a0b3e3"
      },
      "outputs": [
        {
          "output_type": "execute_result",
          "data": {
            "text/plain": [
              "[6, 8, 10, 12]"
            ]
          },
          "metadata": {},
          "execution_count": 134
        }
      ],
      "source": [
        "a=[1,2,3,4]\n",
        "b=[5,6,7,8]\n",
        "c=[9,10,11,12]\n",
        "list(map(lambda x,y:x+y,a,b))"
      ]
    },
    {
      "cell_type": "code",
      "execution_count": 135,
      "metadata": {
        "id": "IR0A3zbsf-Ih",
        "colab": {
          "base_uri": "https://localhost:8080/"
        },
        "outputId": "9dd39658-08cf-4074-c323-f86acc215d46"
      },
      "outputs": [
        {
          "output_type": "execute_result",
          "data": {
            "text/plain": [
              "[15, 18, 21, 24]"
            ]
          },
          "metadata": {},
          "execution_count": 135
        }
      ],
      "source": [
        "# Now all three lists\n",
        "list(map(lambda x,y,z:x+y+z,a,b,c))"
      ]
    },
    {
      "cell_type": "markdown",
      "metadata": {
        "id": "l1KdLYJmf-Ih"
      },
      "source": [
        "In the above example, the parameter 'x' gets its values from the list 'a', while 'y' gets its values from 'b' and 'z' from list 'c'. Go ahead and create your own example to make sure that you completely understand mapping more than one iterable."
      ]
    },
    {
      "cell_type": "markdown",
      "metadata": {
        "id": "G_3qBsRpf-Ih"
      },
      "source": [
        "# reduce()\n",
        "\n",
        "The function reduce(function, sequence) continually applies the function to the sequence. It then returns a single value. \n",
        "\n",
        "If seq = [s1, s2, s3, ... , sn], calling reduce(function, sequence) works like this:\n",
        "\n",
        "* At first the first two elements of sequence will be applied to function, i.e. func(s1,s2) \n",
        "* The list on which reduce() works looks like this: [ function(s1, s2), s3, ... , sn ]\n",
        "* In the next step the function will be applied on the previous result and the third element of the list, i.e. function(function(s1, s2),s3)\n",
        "* The list looks like: [ function(function(s1, s2),s3), ... , sn ]\n",
        "* It continues like this until just one element is left and return this element as the result of reduce()\n",
        "\n",
        "Let's see an example:"
      ]
    },
    {
      "cell_type": "code",
      "execution_count": 136,
      "metadata": {
        "id": "E7rqiJWGf-Ih",
        "colab": {
          "base_uri": "https://localhost:8080/"
        },
        "outputId": "abaa6d65-c53b-46c1-9dbb-e27845fabe2c"
      },
      "outputs": [
        {
          "output_type": "execute_result",
          "data": {
            "text/plain": [
              "113"
            ]
          },
          "metadata": {},
          "execution_count": 136
        }
      ],
      "source": [
        "from functools import reduce\n",
        "l=[47,11,42,13]\n",
        "reduce(lambda x,y:x+y,l)"
      ]
    },
    {
      "cell_type": "markdown",
      "metadata": {
        "id": "lVYKD9B6f-Ih"
      },
      "source": [
        "Let's look at a diagram to get a better understanding of what is going on here:"
      ]
    },
    {
      "cell_type": "code",
      "execution_count": 140,
      "metadata": {
        "id": "wQ-Hc-5nf-Ii",
        "colab": {
          "base_uri": "https://localhost:8080/",
          "height": 34
        },
        "outputId": "3e594c1d-133e-4c8e-b039-3c71bd6333ac"
      },
      "outputs": [
        {
          "output_type": "execute_result",
          "data": {
            "text/plain": [
              "<IPython.core.display.Image object>"
            ],
            "image/png": "data:image/jpeg;base64,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"
          },
          "metadata": {},
          "execution_count": 140
        }
      ],
      "source": [
        "from IPython.display import Image\n",
        "Image('data:image/jpeg;base64,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')"
      ]
    },
    {
      "cell_type": "markdown",
      "metadata": {
        "id": "ZJ290IjIf-Ii"
      },
      "source": [
        "Note how we keep reducing the sequence until a single final value is obtained. Let's see another example:"
      ]
    },
    {
      "cell_type": "code",
      "execution_count": 141,
      "metadata": {
        "id": "GTqEiOlFf-Ii"
      },
      "outputs": [],
      "source": [
        "#Find the maximum of a sequence (This already exists as max())\n",
        "max=lambda a,b:a if a>b else b"
      ]
    },
    {
      "cell_type": "code",
      "execution_count": 142,
      "metadata": {
        "id": "tl3ofPcUf-Ii",
        "colab": {
          "base_uri": "https://localhost:8080/"
        },
        "outputId": "54f67c42-2e60-4df9-c1c3-72a3e44010c7"
      },
      "outputs": [
        {
          "output_type": "execute_result",
          "data": {
            "text/plain": [
              "47"
            ]
          },
          "metadata": {},
          "execution_count": 142
        }
      ],
      "source": [
        "#Find max\n",
        "reduce(max,l)"
      ]
    },
    {
      "cell_type": "markdown",
      "metadata": {
        "id": "PsaRrkt9f-Ii"
      },
      "source": [
        "# filter\n",
        "\n",
        "The function filter(function, list) offers a convenient way to filter out all the elements of an iterable, for which the function returns \"True\". \n",
        "\n",
        "The function filter(function(),l) needs a function as its first argument. The function needs to return a Boolean value (either True or False). This function will be applied to every element of the iterable. Only if the function returns \"True\" will the element of the iterable be included in the result.\n",
        "\n",
        "Let's see some examples:"
      ]
    },
    {
      "cell_type": "code",
      "execution_count": 144,
      "metadata": {
        "id": "L0YgPhJ6f-Ii"
      },
      "outputs": [],
      "source": [
        "#First let's make a function\n",
        "def even(num):\n",
        "    if num%2==0:\n",
        "        return True\n",
        "    else:\n",
        "        return False"
      ]
    },
    {
      "cell_type": "markdown",
      "metadata": {
        "id": "NGXI5SgCf-Ii"
      },
      "source": [
        "Now let's filter a list of numbers. Note that putting the function into filter without any parenthesis might feel strange, but keep in mind that functions are objects as well."
      ]
    },
    {
      "cell_type": "code",
      "execution_count": 146,
      "metadata": {
        "id": "gr0WbH2vf-Ii",
        "colab": {
          "base_uri": "https://localhost:8080/"
        },
        "outputId": "018c92e2-53df-48ba-f1d0-596181a94ec1"
      },
      "outputs": [
        {
          "output_type": "execute_result",
          "data": {
            "text/plain": [
              "[0, 2, 4, 6, 8, 10, 12, 14, 16, 18]"
            ]
          },
          "metadata": {},
          "execution_count": 146
        }
      ],
      "source": [
        "l=range(20)\n",
        "list(filter(even,l))"
      ]
    },
    {
      "cell_type": "markdown",
      "metadata": {
        "id": "CGYNx6zWf-Ii"
      },
      "source": [
        "filter() is more commonly used with lambda functions, this because we usually use filter for a quick job where we don't want to write an entire function. Let's repeat the example above using a lambda expression:"
      ]
    },
    {
      "cell_type": "code",
      "execution_count": 147,
      "metadata": {
        "id": "Bpid9_Cnf-Ii",
        "colab": {
          "base_uri": "https://localhost:8080/"
        },
        "outputId": "68484036-f478-4ffa-fa13-74231b227f69"
      },
      "outputs": [
        {
          "output_type": "execute_result",
          "data": {
            "text/plain": [
              "[0, 2, 4, 6, 8, 10, 12, 14, 16, 18]"
            ]
          },
          "metadata": {},
          "execution_count": 147
        }
      ],
      "source": [
        "list(filter(lambda x:x%2==0,l))"
      ]
    }
  ],
  "metadata": {
    "kernelspec": {
      "display_name": "Python 3",
      "language": "python",
      "name": "python3"
    },
    "language_info": {
      "codemirror_mode": {
        "name": "ipython",
        "version": 3
      },
      "file_extension": ".py",
      "mimetype": "text/x-python",
      "name": "python",
      "nbconvert_exporter": "python",
      "pygments_lexer": "ipython3",
      "version": "3.7.3"
    },
    "colab": {
      "name": "Python Notebook 3.ipynb",
      "provenance": [],
      "collapsed_sections": [
        "_LS3f5JXf-IB",
        "LZ0v7v_Gf-IM",
        "ygGzByujf-IU",
        "MV_erVJef-IW",
        "_NXHao6rf-IX",
        "FGnbpVnif-IY",
        "Af2B0yt5f-IY",
        "amuJXMCtf-IZ",
        "Dds_ZbxOf-Ia",
        "j3hA3rplf-Ia",
        "LclX6pK_f-Ic",
        "ViS2zCYlf-Ie"
      ],
      "include_colab_link": true
    }
  },
  "nbformat": 4,
  "nbformat_minor": 0
}